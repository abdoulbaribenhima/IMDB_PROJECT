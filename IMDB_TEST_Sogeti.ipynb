{
 "cells": [
  {
   "cell_type": "markdown",
   "id": "78d4cce2",
   "metadata": {},
   "source": [
    "![title](./Sogeti-Logo.wine.png)"
   ]
  },
  {
   "cell_type": "markdown",
   "id": "9b7fb930",
   "metadata": {},
   "source": [
    "<div class=\"alert alert-info\">\n",
    "    <h1><strong> Sogeti test Data-science :</strong></h1>\n",
    "</div>"
   ]
  },
  {
   "cell_type": "code",
   "execution_count": 671,
   "id": "0ac7e478",
   "metadata": {},
   "outputs": [],
   "source": [
    "#importation de librairies\n",
    "import numpy as np\n",
    "import pandas as pd"
   ]
  },
  {
   "cell_type": "code",
   "execution_count": 672,
   "id": "989117cc",
   "metadata": {},
   "outputs": [
    {
     "data": {
      "text/html": [
       "<div>\n",
       "<style scoped>\n",
       "    .dataframe tbody tr th:only-of-type {\n",
       "        vertical-align: middle;\n",
       "    }\n",
       "\n",
       "    .dataframe tbody tr th {\n",
       "        vertical-align: top;\n",
       "    }\n",
       "\n",
       "    .dataframe thead th {\n",
       "        text-align: right;\n",
       "    }\n",
       "</style>\n",
       "<table border=\"1\" class=\"dataframe\">\n",
       "  <thead>\n",
       "    <tr style=\"text-align: right;\">\n",
       "      <th></th>\n",
       "      <th>Rank</th>\n",
       "      <th>Title</th>\n",
       "      <th>Genre</th>\n",
       "      <th>Description</th>\n",
       "      <th>Director</th>\n",
       "      <th>Actors</th>\n",
       "      <th>Year</th>\n",
       "      <th>Runtime (Minutes)</th>\n",
       "      <th>Rating</th>\n",
       "      <th>Votes</th>\n",
       "      <th>Revenue (Millions)</th>\n",
       "      <th>Metascore</th>\n",
       "    </tr>\n",
       "  </thead>\n",
       "  <tbody>\n",
       "    <tr>\n",
       "      <th>0</th>\n",
       "      <td>1</td>\n",
       "      <td>Guardians of the Galaxy</td>\n",
       "      <td>Action,Adventure,Sci-Fi</td>\n",
       "      <td>A group of intergalactic criminals are forced ...</td>\n",
       "      <td>James Gunn</td>\n",
       "      <td>Chris Pratt, Vin Diesel, Bradley Cooper, Zoe S...</td>\n",
       "      <td>2014</td>\n",
       "      <td>121</td>\n",
       "      <td>8.1</td>\n",
       "      <td>757074</td>\n",
       "      <td>333.13</td>\n",
       "      <td>76.0</td>\n",
       "    </tr>\n",
       "    <tr>\n",
       "      <th>1</th>\n",
       "      <td>2</td>\n",
       "      <td>Prometheus</td>\n",
       "      <td>Adventure,Mystery,Sci-Fi</td>\n",
       "      <td>Following clues to the origin of mankind, a te...</td>\n",
       "      <td>Ridley Scott</td>\n",
       "      <td>Noomi Rapace, Logan Marshall-Green, Michael Fa...</td>\n",
       "      <td>2012</td>\n",
       "      <td>124</td>\n",
       "      <td>7.0</td>\n",
       "      <td>485820</td>\n",
       "      <td>126.46</td>\n",
       "      <td>65.0</td>\n",
       "    </tr>\n",
       "    <tr>\n",
       "      <th>2</th>\n",
       "      <td>3</td>\n",
       "      <td>Split</td>\n",
       "      <td>Horror,Thriller</td>\n",
       "      <td>Three girls are kidnapped by a man with a diag...</td>\n",
       "      <td>M. Night Shyamalan</td>\n",
       "      <td>James McAvoy, Anya Taylor-Joy, Haley Lu Richar...</td>\n",
       "      <td>2016</td>\n",
       "      <td>117</td>\n",
       "      <td>7.3</td>\n",
       "      <td>157606</td>\n",
       "      <td>138.12</td>\n",
       "      <td>62.0</td>\n",
       "    </tr>\n",
       "    <tr>\n",
       "      <th>3</th>\n",
       "      <td>4</td>\n",
       "      <td>Sing</td>\n",
       "      <td>Animation,Comedy,Family</td>\n",
       "      <td>In a city of humanoid animals, a hustling thea...</td>\n",
       "      <td>Christophe Lourdelet</td>\n",
       "      <td>Matthew McConaughey,Reese Witherspoon, Seth Ma...</td>\n",
       "      <td>2016</td>\n",
       "      <td>108</td>\n",
       "      <td>7.2</td>\n",
       "      <td>60545</td>\n",
       "      <td>270.32</td>\n",
       "      <td>59.0</td>\n",
       "    </tr>\n",
       "    <tr>\n",
       "      <th>4</th>\n",
       "      <td>5</td>\n",
       "      <td>Suicide Squad</td>\n",
       "      <td>Action,Adventure,Fantasy</td>\n",
       "      <td>A secret government agency recruits some of th...</td>\n",
       "      <td>David Ayer</td>\n",
       "      <td>Will Smith, Jared Leto, Margot Robbie, Viola D...</td>\n",
       "      <td>2016</td>\n",
       "      <td>123</td>\n",
       "      <td>6.2</td>\n",
       "      <td>393727</td>\n",
       "      <td>325.02</td>\n",
       "      <td>40.0</td>\n",
       "    </tr>\n",
       "  </tbody>\n",
       "</table>\n",
       "</div>"
      ],
      "text/plain": [
       "   Rank                    Title                     Genre  \\\n",
       "0     1  Guardians of the Galaxy   Action,Adventure,Sci-Fi   \n",
       "1     2               Prometheus  Adventure,Mystery,Sci-Fi   \n",
       "2     3                    Split           Horror,Thriller   \n",
       "3     4                     Sing   Animation,Comedy,Family   \n",
       "4     5            Suicide Squad  Action,Adventure,Fantasy   \n",
       "\n",
       "                                         Description              Director  \\\n",
       "0  A group of intergalactic criminals are forced ...            James Gunn   \n",
       "1  Following clues to the origin of mankind, a te...          Ridley Scott   \n",
       "2  Three girls are kidnapped by a man with a diag...    M. Night Shyamalan   \n",
       "3  In a city of humanoid animals, a hustling thea...  Christophe Lourdelet   \n",
       "4  A secret government agency recruits some of th...            David Ayer   \n",
       "\n",
       "                                              Actors  Year  Runtime (Minutes)  \\\n",
       "0  Chris Pratt, Vin Diesel, Bradley Cooper, Zoe S...  2014                121   \n",
       "1  Noomi Rapace, Logan Marshall-Green, Michael Fa...  2012                124   \n",
       "2  James McAvoy, Anya Taylor-Joy, Haley Lu Richar...  2016                117   \n",
       "3  Matthew McConaughey,Reese Witherspoon, Seth Ma...  2016                108   \n",
       "4  Will Smith, Jared Leto, Margot Robbie, Viola D...  2016                123   \n",
       "\n",
       "   Rating   Votes  Revenue (Millions)  Metascore  \n",
       "0     8.1  757074              333.13       76.0  \n",
       "1     7.0  485820              126.46       65.0  \n",
       "2     7.3  157606              138.12       62.0  \n",
       "3     7.2   60545              270.32       59.0  \n",
       "4     6.2  393727              325.02       40.0  "
      ]
     },
     "execution_count": 672,
     "metadata": {},
     "output_type": "execute_result"
    }
   ],
   "source": [
    "df=pd.read_csv(r\"./IMDB-Movie-Data.csv\")\n",
    "df.head()"
   ]
  },
  {
   "cell_type": "code",
   "execution_count": 673,
   "id": "e78cb5f3",
   "metadata": {},
   "outputs": [],
   "source": [
    "df = df.drop('Rank', axis='columns')"
   ]
  },
  {
   "cell_type": "code",
   "execution_count": 674,
   "id": "376b4bfe",
   "metadata": {},
   "outputs": [
    {
     "data": {
      "text/html": [
       "<div>\n",
       "<style scoped>\n",
       "    .dataframe tbody tr th:only-of-type {\n",
       "        vertical-align: middle;\n",
       "    }\n",
       "\n",
       "    .dataframe tbody tr th {\n",
       "        vertical-align: top;\n",
       "    }\n",
       "\n",
       "    .dataframe thead th {\n",
       "        text-align: right;\n",
       "    }\n",
       "</style>\n",
       "<table border=\"1\" class=\"dataframe\">\n",
       "  <thead>\n",
       "    <tr style=\"text-align: right;\">\n",
       "      <th></th>\n",
       "      <th>Year</th>\n",
       "      <th>Runtime (Minutes)</th>\n",
       "      <th>Rating</th>\n",
       "      <th>Votes</th>\n",
       "      <th>Revenue (Millions)</th>\n",
       "      <th>Metascore</th>\n",
       "    </tr>\n",
       "  </thead>\n",
       "  <tbody>\n",
       "    <tr>\n",
       "      <th>count</th>\n",
       "      <td>1000.000000</td>\n",
       "      <td>1000.000000</td>\n",
       "      <td>1000.000000</td>\n",
       "      <td>1.000000e+03</td>\n",
       "      <td>872.000000</td>\n",
       "      <td>936.000000</td>\n",
       "    </tr>\n",
       "    <tr>\n",
       "      <th>mean</th>\n",
       "      <td>2012.783000</td>\n",
       "      <td>113.172000</td>\n",
       "      <td>6.723200</td>\n",
       "      <td>1.698083e+05</td>\n",
       "      <td>82.956376</td>\n",
       "      <td>58.985043</td>\n",
       "    </tr>\n",
       "    <tr>\n",
       "      <th>std</th>\n",
       "      <td>3.205962</td>\n",
       "      <td>18.810908</td>\n",
       "      <td>0.945429</td>\n",
       "      <td>1.887626e+05</td>\n",
       "      <td>103.253540</td>\n",
       "      <td>17.194757</td>\n",
       "    </tr>\n",
       "    <tr>\n",
       "      <th>min</th>\n",
       "      <td>2006.000000</td>\n",
       "      <td>66.000000</td>\n",
       "      <td>1.900000</td>\n",
       "      <td>6.100000e+01</td>\n",
       "      <td>0.000000</td>\n",
       "      <td>11.000000</td>\n",
       "    </tr>\n",
       "    <tr>\n",
       "      <th>25%</th>\n",
       "      <td>2010.000000</td>\n",
       "      <td>100.000000</td>\n",
       "      <td>6.200000</td>\n",
       "      <td>3.630900e+04</td>\n",
       "      <td>13.270000</td>\n",
       "      <td>47.000000</td>\n",
       "    </tr>\n",
       "    <tr>\n",
       "      <th>50%</th>\n",
       "      <td>2014.000000</td>\n",
       "      <td>111.000000</td>\n",
       "      <td>6.800000</td>\n",
       "      <td>1.107990e+05</td>\n",
       "      <td>47.985000</td>\n",
       "      <td>59.500000</td>\n",
       "    </tr>\n",
       "    <tr>\n",
       "      <th>75%</th>\n",
       "      <td>2016.000000</td>\n",
       "      <td>123.000000</td>\n",
       "      <td>7.400000</td>\n",
       "      <td>2.399098e+05</td>\n",
       "      <td>113.715000</td>\n",
       "      <td>72.000000</td>\n",
       "    </tr>\n",
       "    <tr>\n",
       "      <th>max</th>\n",
       "      <td>2016.000000</td>\n",
       "      <td>191.000000</td>\n",
       "      <td>9.000000</td>\n",
       "      <td>1.791916e+06</td>\n",
       "      <td>936.630000</td>\n",
       "      <td>100.000000</td>\n",
       "    </tr>\n",
       "  </tbody>\n",
       "</table>\n",
       "</div>"
      ],
      "text/plain": [
       "              Year  Runtime (Minutes)       Rating         Votes  \\\n",
       "count  1000.000000        1000.000000  1000.000000  1.000000e+03   \n",
       "mean   2012.783000         113.172000     6.723200  1.698083e+05   \n",
       "std       3.205962          18.810908     0.945429  1.887626e+05   \n",
       "min    2006.000000          66.000000     1.900000  6.100000e+01   \n",
       "25%    2010.000000         100.000000     6.200000  3.630900e+04   \n",
       "50%    2014.000000         111.000000     6.800000  1.107990e+05   \n",
       "75%    2016.000000         123.000000     7.400000  2.399098e+05   \n",
       "max    2016.000000         191.000000     9.000000  1.791916e+06   \n",
       "\n",
       "       Revenue (Millions)   Metascore  \n",
       "count          872.000000  936.000000  \n",
       "mean            82.956376   58.985043  \n",
       "std            103.253540   17.194757  \n",
       "min              0.000000   11.000000  \n",
       "25%             13.270000   47.000000  \n",
       "50%             47.985000   59.500000  \n",
       "75%            113.715000   72.000000  \n",
       "max            936.630000  100.000000  "
      ]
     },
     "execution_count": 674,
     "metadata": {},
     "output_type": "execute_result"
    }
   ],
   "source": [
    "df.describe()"
   ]
  },
  {
   "cell_type": "code",
   "execution_count": 675,
   "id": "4addbc05",
   "metadata": {},
   "outputs": [],
   "source": [
    "# En remarque déjà la moyenne du Rating utilisant discribe function qui est de 6.723"
   ]
  },
  {
   "cell_type": "code",
   "execution_count": 676,
   "id": "6ceeff16",
   "metadata": {},
   "outputs": [
    {
     "data": {
      "text/plain": [
       "(1000, 11)"
      ]
     },
     "execution_count": 676,
     "metadata": {},
     "output_type": "execute_result"
    }
   ],
   "source": [
    "df.shape #aficher la forme du df avant d'illiminer les valeurs null"
   ]
  },
  {
   "cell_type": "code",
   "execution_count": 677,
   "id": "d1beaefb",
   "metadata": {},
   "outputs": [
    {
     "data": {
      "text/plain": [
       "Title                 0.000\n",
       "Genre                 0.000\n",
       "Description           0.000\n",
       "Director              0.000\n",
       "Actors                0.000\n",
       "Year                  0.000\n",
       "Runtime (Minutes)     0.000\n",
       "Rating                0.000\n",
       "Votes                 0.000\n",
       "Revenue (Millions)    0.128\n",
       "Metascore             0.064\n",
       "dtype: float64"
      ]
     },
     "execution_count": 677,
     "metadata": {},
     "output_type": "execute_result"
    }
   ],
   "source": [
    "df.isnull().mean() # les colonnes ayant des val nulls"
   ]
  },
  {
   "cell_type": "code",
   "execution_count": 678,
   "id": "00cc24e4",
   "metadata": {},
   "outputs": [],
   "source": [
    "df.dropna(inplace=True)## éliminer les variable null"
   ]
  },
  {
   "cell_type": "code",
   "execution_count": 679,
   "id": "3809670a",
   "metadata": {},
   "outputs": [
    {
     "data": {
      "text/plain": [
       "Title                 0.0\n",
       "Genre                 0.0\n",
       "Description           0.0\n",
       "Director              0.0\n",
       "Actors                0.0\n",
       "Year                  0.0\n",
       "Runtime (Minutes)     0.0\n",
       "Rating                0.0\n",
       "Votes                 0.0\n",
       "Revenue (Millions)    0.0\n",
       "Metascore             0.0\n",
       "dtype: float64"
      ]
     },
     "execution_count": 679,
     "metadata": {},
     "output_type": "execute_result"
    }
   ],
   "source": [
    "df.isnull().mean()"
   ]
  },
  {
   "cell_type": "code",
   "execution_count": 680,
   "id": "42f80fb1",
   "metadata": {},
   "outputs": [
    {
     "data": {
      "text/plain": [
       "(838, 11)"
      ]
     },
     "execution_count": 680,
     "metadata": {},
     "output_type": "execute_result"
    }
   ],
   "source": [
    "df.shape"
   ]
  },
  {
   "cell_type": "code",
   "execution_count": 681,
   "id": "77b1776c",
   "metadata": {},
   "outputs": [
    {
     "data": {
      "text/html": [
       "<div>\n",
       "<style scoped>\n",
       "    .dataframe tbody tr th:only-of-type {\n",
       "        vertical-align: middle;\n",
       "    }\n",
       "\n",
       "    .dataframe tbody tr th {\n",
       "        vertical-align: top;\n",
       "    }\n",
       "\n",
       "    .dataframe thead th {\n",
       "        text-align: right;\n",
       "    }\n",
       "</style>\n",
       "<table border=\"1\" class=\"dataframe\">\n",
       "  <thead>\n",
       "    <tr style=\"text-align: right;\">\n",
       "      <th></th>\n",
       "      <th>Title</th>\n",
       "      <th>Genre</th>\n",
       "      <th>Description</th>\n",
       "      <th>Director</th>\n",
       "      <th>Actors</th>\n",
       "      <th>Year</th>\n",
       "      <th>Runtime (Minutes)</th>\n",
       "      <th>Rating</th>\n",
       "      <th>Votes</th>\n",
       "      <th>Revenue (Millions)</th>\n",
       "      <th>Metascore</th>\n",
       "    </tr>\n",
       "  </thead>\n",
       "  <tbody>\n",
       "    <tr>\n",
       "      <th>0</th>\n",
       "      <td>Guardians of the Galaxy</td>\n",
       "      <td>Action,Adventure,Sci-Fi</td>\n",
       "      <td>A group of intergalactic criminals are forced ...</td>\n",
       "      <td>James Gunn</td>\n",
       "      <td>Chris Pratt, Vin Diesel, Bradley Cooper, Zoe S...</td>\n",
       "      <td>2014</td>\n",
       "      <td>121</td>\n",
       "      <td>8.1</td>\n",
       "      <td>757074</td>\n",
       "      <td>333.13</td>\n",
       "      <td>76.0</td>\n",
       "    </tr>\n",
       "    <tr>\n",
       "      <th>1</th>\n",
       "      <td>Prometheus</td>\n",
       "      <td>Adventure,Mystery,Sci-Fi</td>\n",
       "      <td>Following clues to the origin of mankind, a te...</td>\n",
       "      <td>Ridley Scott</td>\n",
       "      <td>Noomi Rapace, Logan Marshall-Green, Michael Fa...</td>\n",
       "      <td>2012</td>\n",
       "      <td>124</td>\n",
       "      <td>7.0</td>\n",
       "      <td>485820</td>\n",
       "      <td>126.46</td>\n",
       "      <td>65.0</td>\n",
       "    </tr>\n",
       "    <tr>\n",
       "      <th>2</th>\n",
       "      <td>Split</td>\n",
       "      <td>Horror,Thriller</td>\n",
       "      <td>Three girls are kidnapped by a man with a diag...</td>\n",
       "      <td>M. Night Shyamalan</td>\n",
       "      <td>James McAvoy, Anya Taylor-Joy, Haley Lu Richar...</td>\n",
       "      <td>2016</td>\n",
       "      <td>117</td>\n",
       "      <td>7.3</td>\n",
       "      <td>157606</td>\n",
       "      <td>138.12</td>\n",
       "      <td>62.0</td>\n",
       "    </tr>\n",
       "    <tr>\n",
       "      <th>3</th>\n",
       "      <td>Sing</td>\n",
       "      <td>Animation,Comedy,Family</td>\n",
       "      <td>In a city of humanoid animals, a hustling thea...</td>\n",
       "      <td>Christophe Lourdelet</td>\n",
       "      <td>Matthew McConaughey,Reese Witherspoon, Seth Ma...</td>\n",
       "      <td>2016</td>\n",
       "      <td>108</td>\n",
       "      <td>7.2</td>\n",
       "      <td>60545</td>\n",
       "      <td>270.32</td>\n",
       "      <td>59.0</td>\n",
       "    </tr>\n",
       "    <tr>\n",
       "      <th>4</th>\n",
       "      <td>Suicide Squad</td>\n",
       "      <td>Action,Adventure,Fantasy</td>\n",
       "      <td>A secret government agency recruits some of th...</td>\n",
       "      <td>David Ayer</td>\n",
       "      <td>Will Smith, Jared Leto, Margot Robbie, Viola D...</td>\n",
       "      <td>2016</td>\n",
       "      <td>123</td>\n",
       "      <td>6.2</td>\n",
       "      <td>393727</td>\n",
       "      <td>325.02</td>\n",
       "      <td>40.0</td>\n",
       "    </tr>\n",
       "  </tbody>\n",
       "</table>\n",
       "</div>"
      ],
      "text/plain": [
       "                     Title                     Genre  \\\n",
       "0  Guardians of the Galaxy   Action,Adventure,Sci-Fi   \n",
       "1               Prometheus  Adventure,Mystery,Sci-Fi   \n",
       "2                    Split           Horror,Thriller   \n",
       "3                     Sing   Animation,Comedy,Family   \n",
       "4            Suicide Squad  Action,Adventure,Fantasy   \n",
       "\n",
       "                                         Description              Director  \\\n",
       "0  A group of intergalactic criminals are forced ...            James Gunn   \n",
       "1  Following clues to the origin of mankind, a te...          Ridley Scott   \n",
       "2  Three girls are kidnapped by a man with a diag...    M. Night Shyamalan   \n",
       "3  In a city of humanoid animals, a hustling thea...  Christophe Lourdelet   \n",
       "4  A secret government agency recruits some of th...            David Ayer   \n",
       "\n",
       "                                              Actors  Year  Runtime (Minutes)  \\\n",
       "0  Chris Pratt, Vin Diesel, Bradley Cooper, Zoe S...  2014                121   \n",
       "1  Noomi Rapace, Logan Marshall-Green, Michael Fa...  2012                124   \n",
       "2  James McAvoy, Anya Taylor-Joy, Haley Lu Richar...  2016                117   \n",
       "3  Matthew McConaughey,Reese Witherspoon, Seth Ma...  2016                108   \n",
       "4  Will Smith, Jared Leto, Margot Robbie, Viola D...  2016                123   \n",
       "\n",
       "   Rating   Votes  Revenue (Millions)  Metascore  \n",
       "0     8.1  757074              333.13       76.0  \n",
       "1     7.0  485820              126.46       65.0  \n",
       "2     7.3  157606              138.12       62.0  \n",
       "3     7.2   60545              270.32       59.0  \n",
       "4     6.2  393727              325.02       40.0  "
      ]
     },
     "execution_count": 681,
     "metadata": {},
     "output_type": "execute_result"
    }
   ],
   "source": [
    "# df.style.background_gradient(cmap=\"Reds\")\n",
    "df.head()"
   ]
  },
  {
   "cell_type": "markdown",
   "id": "4ccbc6c2",
   "metadata": {},
   "source": [
    "<div class=\"alert alert-warning\">\n",
    "  <h2><strong> QUESTIONS: </strong></h2>\n",
    "</div>"
   ]
  },
  {
   "cell_type": "markdown",
   "id": "ca192006",
   "metadata": {},
   "source": [
    "\n",
    "<div class=\"alert alert-success\">\n",
    "  <strong>\n",
    "      \n",
    "1. Calculer la moyenne des notes au global (colonne `rating`).\n",
    "2. Calculer la moyenne des notes par réalisateur (colonne `rating`). ainsi que le total au box-office (colonne `Revenue (Millions)`) en une instruction Pandas et sauvegarder le résultat en CSV.\n",
    "3. A l'aide [des données d'inflation de l'OCDE](https://data.oecd.org/price/inflation-cpi.htm) créer une nouvelle colonne incluant les revenus en dollars constant (la base 100 étant l'année du film le plus ancien dans le jeu de données) et sauvegarder le résultat en CSV.\n",
    "4. Créer un graphique avec la moyenne des notes (colonne `rating`) des films en ordonnée et leur année en abscisse et sauvegarder le résultat en JPEG.\n",
    "5. Déterminer les paramètres les plus impactants sur le score (colonne `rating`).\n",
    "      \n",
    "    </strong>\n",
    "</div>"
   ]
  },
  {
   "cell_type": "markdown",
   "id": "5ede83bb",
   "metadata": {},
   "source": [
    "## Q1: Calcule de la moyenne des notes au global (colonne rating)."
   ]
  },
  {
   "cell_type": "code",
   "execution_count": 682,
   "id": "e346fd42",
   "metadata": {},
   "outputs": [
    {
     "name": "stdout",
     "output_type": "stream",
     "text": [
      "La moyenne des notes au global est : 6.81\n"
     ]
    }
   ],
   "source": [
    "mean_df = df['Rating'].mean()\n",
    "print(\"La moyenne des notes au global est :\",\"%.2f\" % mean_df)## limitter les flottant à deux décimales "
   ]
  },
  {
   "cell_type": "markdown",
   "id": "9cbc01f4",
   "metadata": {},
   "source": [
    "## Q2: Calcule de la moyenne des notes par réalisateur (colonne rating)"
   ]
  },
  {
   "cell_type": "code",
   "execution_count": 683,
   "id": "1860a8f6",
   "metadata": {},
   "outputs": [
    {
     "data": {
      "text/plain": [
       "Director\n",
       "Aamir Khan             1\n",
       "Abdellatif Kechiche    1\n",
       "Adam McKay             4\n",
       "Adam Shankman          2\n",
       "Adam Wingard           2\n",
       "                      ..\n",
       "Xavier Dolan           1\n",
       "Yimou Zhang            1\n",
       "Yorgos Lanthimos       2\n",
       "Zack Snyder            5\n",
       "Zackary Adler          1\n",
       "Name: Rating, Length: 524, dtype: int64"
      ]
     },
     "execution_count": 683,
     "metadata": {},
     "output_type": "execute_result"
    }
   ],
   "source": [
    "dire = df.groupby(['Director'])[\"Rating\"]# grouper les notes par réalisateur\n",
    "dire.count()"
   ]
  },
  {
   "cell_type": "code",
   "execution_count": 684,
   "id": "ba320483",
   "metadata": {},
   "outputs": [
    {
     "data": {
      "text/html": [
       "<div>\n",
       "<style scoped>\n",
       "    .dataframe tbody tr th:only-of-type {\n",
       "        vertical-align: middle;\n",
       "    }\n",
       "\n",
       "    .dataframe tbody tr th {\n",
       "        vertical-align: top;\n",
       "    }\n",
       "\n",
       "    .dataframe thead th {\n",
       "        text-align: right;\n",
       "    }\n",
       "</style>\n",
       "<table border=\"1\" class=\"dataframe\">\n",
       "  <thead>\n",
       "    <tr style=\"text-align: right;\">\n",
       "      <th></th>\n",
       "      <th>Rating</th>\n",
       "    </tr>\n",
       "    <tr>\n",
       "      <th>Director</th>\n",
       "      <th></th>\n",
       "    </tr>\n",
       "  </thead>\n",
       "  <tbody>\n",
       "    <tr>\n",
       "      <th>Aamir Khan</th>\n",
       "      <td>8.500000</td>\n",
       "    </tr>\n",
       "    <tr>\n",
       "      <th>Abdellatif Kechiche</th>\n",
       "      <td>7.800000</td>\n",
       "    </tr>\n",
       "    <tr>\n",
       "      <th>Adam McKay</th>\n",
       "      <td>7.000000</td>\n",
       "    </tr>\n",
       "    <tr>\n",
       "      <th>Adam Shankman</th>\n",
       "      <td>6.300000</td>\n",
       "    </tr>\n",
       "    <tr>\n",
       "      <th>Adam Wingard</th>\n",
       "      <td>5.900000</td>\n",
       "    </tr>\n",
       "    <tr>\n",
       "      <th>Akiva Schaffer</th>\n",
       "      <td>6.700000</td>\n",
       "    </tr>\n",
       "    <tr>\n",
       "      <th>Alan Taylor</th>\n",
       "      <td>6.750000</td>\n",
       "    </tr>\n",
       "    <tr>\n",
       "      <th>Albert Hughes</th>\n",
       "      <td>6.900000</td>\n",
       "    </tr>\n",
       "    <tr>\n",
       "      <th>Alejandro Amenábar</th>\n",
       "      <td>5.700000</td>\n",
       "    </tr>\n",
       "    <tr>\n",
       "      <th>Alejandro González Iñárritu</th>\n",
       "      <td>7.766667</td>\n",
       "    </tr>\n",
       "  </tbody>\n",
       "</table>\n",
       "</div>"
      ],
      "text/plain": [
       "                               Rating\n",
       "Director                             \n",
       "Aamir Khan                   8.500000\n",
       "Abdellatif Kechiche          7.800000\n",
       "Adam McKay                   7.000000\n",
       "Adam Shankman                6.300000\n",
       "Adam Wingard                 5.900000\n",
       "Akiva Schaffer               6.700000\n",
       "Alan Taylor                  6.750000\n",
       "Albert Hughes                6.900000\n",
       "Alejandro Amenábar           5.700000\n",
       "Alejandro González Iñárritu  7.766667"
      ]
     },
     "execution_count": 684,
     "metadata": {},
     "output_type": "execute_result"
    }
   ],
   "source": [
    "real = df.groupby(['Director'])['Rating'].mean().to_frame()# grouper la moyenne des notes par réalisateur\n",
    "# real.style.background_gradient(cmap=\"Reds\")\n",
    "real.head(10)"
   ]
  },
  {
   "cell_type": "markdown",
   "id": "ce50fa65",
   "metadata": {},
   "source": [
    "## Calcule du total au box-office par réalisateur (colonne Revenue (Millions))"
   ]
  },
  {
   "cell_type": "code",
   "execution_count": 685,
   "id": "8795a763",
   "metadata": {},
   "outputs": [
    {
     "data": {
      "text/html": [
       "<div>\n",
       "<style scoped>\n",
       "    .dataframe tbody tr th:only-of-type {\n",
       "        vertical-align: middle;\n",
       "    }\n",
       "\n",
       "    .dataframe tbody tr th {\n",
       "        vertical-align: top;\n",
       "    }\n",
       "\n",
       "    .dataframe thead th {\n",
       "        text-align: right;\n",
       "    }\n",
       "</style>\n",
       "<table border=\"1\" class=\"dataframe\">\n",
       "  <thead>\n",
       "    <tr style=\"text-align: right;\">\n",
       "      <th></th>\n",
       "      <th>Revenue (Millions)</th>\n",
       "    </tr>\n",
       "    <tr>\n",
       "      <th>Director</th>\n",
       "      <th></th>\n",
       "    </tr>\n",
       "  </thead>\n",
       "  <tbody>\n",
       "    <tr>\n",
       "      <th>Aamir Khan</th>\n",
       "      <td>1.20</td>\n",
       "    </tr>\n",
       "    <tr>\n",
       "      <th>Abdellatif Kechiche</th>\n",
       "      <td>2.20</td>\n",
       "    </tr>\n",
       "    <tr>\n",
       "      <th>Adam McKay</th>\n",
       "      <td>438.14</td>\n",
       "    </tr>\n",
       "    <tr>\n",
       "      <th>Adam Shankman</th>\n",
       "      <td>157.33</td>\n",
       "    </tr>\n",
       "    <tr>\n",
       "      <th>Adam Wingard</th>\n",
       "      <td>21.07</td>\n",
       "    </tr>\n",
       "    <tr>\n",
       "      <th>Akiva Schaffer</th>\n",
       "      <td>9.39</td>\n",
       "    </tr>\n",
       "    <tr>\n",
       "      <th>Alan Taylor</th>\n",
       "      <td>296.09</td>\n",
       "    </tr>\n",
       "    <tr>\n",
       "      <th>Albert Hughes</th>\n",
       "      <td>94.82</td>\n",
       "    </tr>\n",
       "    <tr>\n",
       "      <th>Alejandro Amenábar</th>\n",
       "      <td>0.05</td>\n",
       "    </tr>\n",
       "    <tr>\n",
       "      <th>Alejandro González Iñárritu</th>\n",
       "      <td>260.28</td>\n",
       "    </tr>\n",
       "  </tbody>\n",
       "</table>\n",
       "</div>"
      ],
      "text/plain": [
       "                             Revenue (Millions)\n",
       "Director                                       \n",
       "Aamir Khan                                 1.20\n",
       "Abdellatif Kechiche                        2.20\n",
       "Adam McKay                               438.14\n",
       "Adam Shankman                            157.33\n",
       "Adam Wingard                              21.07\n",
       "Akiva Schaffer                             9.39\n",
       "Alan Taylor                              296.09\n",
       "Albert Hughes                             94.82\n",
       "Alejandro Amenábar                         0.05\n",
       "Alejandro González Iñárritu              260.28"
      ]
     },
     "execution_count": 685,
     "metadata": {},
     "output_type": "execute_result"
    }
   ],
   "source": [
    "box = df.groupby(['Director'])['Revenue (Millions)'].sum().to_frame()#grouper la somme des revenues par réalisateur\n",
    "# box.style.background_gradient(cmap=\"Reds\")\n",
    "box.head(10)"
   ]
  },
  {
   "cell_type": "code",
   "execution_count": 686,
   "id": "04ed26f7",
   "metadata": {},
   "outputs": [
    {
     "data": {
      "text/html": [
       "<style type=\"text/css\">\n",
       "#T_3c422_row0_col0 {\n",
       "  background-color: #00441b;\n",
       "  color: #f1f1f1;\n",
       "}\n",
       "#T_3c422_row1_col0 {\n",
       "  background-color: #005723;\n",
       "  color: #f1f1f1;\n",
       "}\n",
       "#T_3c422_row2_col0 {\n",
       "  background-color: #147e3a;\n",
       "  color: #f1f1f1;\n",
       "}\n",
       "#T_3c422_row3_col0 {\n",
       "  background-color: #309950;\n",
       "  color: #f1f1f1;\n",
       "}\n",
       "#T_3c422_row4_col0 {\n",
       "  background-color: #5eb96b;\n",
       "  color: #f1f1f1;\n",
       "}\n",
       "#T_3c422_row5_col0 {\n",
       "  background-color: #b8e3b2;\n",
       "  color: #000000;\n",
       "}\n",
       "#T_3c422_row6_col0 {\n",
       "  background-color: #cbebc5;\n",
       "  color: #000000;\n",
       "}\n",
       "#T_3c422_row7_col0 {\n",
       "  background-color: #d9f0d3;\n",
       "  color: #000000;\n",
       "}\n",
       "#T_3c422_row8_col0 {\n",
       "  background-color: #f1faee;\n",
       "  color: #000000;\n",
       "}\n",
       "#T_3c422_row9_col0 {\n",
       "  background-color: #f7fcf5;\n",
       "  color: #000000;\n",
       "}\n",
       "</style>\n",
       "<table id=\"T_3c422_\">\n",
       "  <thead>\n",
       "    <tr>\n",
       "      <th class=\"blank level0\" >&nbsp;</th>\n",
       "      <th class=\"col_heading level0 col0\" >Revenue (Millions)</th>\n",
       "    </tr>\n",
       "    <tr>\n",
       "      <th class=\"index_name level0\" >Director</th>\n",
       "      <th class=\"blank col0\" >&nbsp;</th>\n",
       "    </tr>\n",
       "  </thead>\n",
       "  <tbody>\n",
       "    <tr>\n",
       "      <th id=\"T_3c422_level0_row0\" class=\"row_heading level0 row0\" >J.J. Abrams</th>\n",
       "      <td id=\"T_3c422_row0_col0\" class=\"data row0 col0\" >1683.450000</td>\n",
       "    </tr>\n",
       "    <tr>\n",
       "      <th id=\"T_3c422_level0_row1\" class=\"row_heading level0 row1\" >David Yates</th>\n",
       "      <td id=\"T_3c422_row1_col0\" class=\"data row1 col0\" >1630.510000</td>\n",
       "    </tr>\n",
       "    <tr>\n",
       "      <th id=\"T_3c422_level0_row2\" class=\"row_heading level0 row2\" >Christopher Nolan</th>\n",
       "      <td id=\"T_3c422_row2_col0\" class=\"data row2 col0\" >1515.090000</td>\n",
       "    </tr>\n",
       "    <tr>\n",
       "      <th id=\"T_3c422_level0_row3\" class=\"row_heading level0 row3\" >Michael Bay</th>\n",
       "      <td id=\"T_3c422_row3_col0\" class=\"data row3 col0\" >1421.320000</td>\n",
       "    </tr>\n",
       "    <tr>\n",
       "      <th id=\"T_3c422_level0_row4\" class=\"row_heading level0 row4\" >Francis Lawrence</th>\n",
       "      <td id=\"T_3c422_row4_col0\" class=\"data row4 col0\" >1299.810000</td>\n",
       "    </tr>\n",
       "    <tr>\n",
       "      <th id=\"T_3c422_level0_row5\" class=\"row_heading level0 row5\" >Joss Whedon</th>\n",
       "      <td id=\"T_3c422_row5_col0\" class=\"data row5 col0\" >1082.270000</td>\n",
       "    </tr>\n",
       "    <tr>\n",
       "      <th id=\"T_3c422_level0_row6\" class=\"row_heading level0 row6\" >Jon Favreau</th>\n",
       "      <td id=\"T_3c422_row6_col0\" class=\"data row6 col0\" >1025.600000</td>\n",
       "    </tr>\n",
       "    <tr>\n",
       "      <th id=\"T_3c422_level0_row7\" class=\"row_heading level0 row7\" >Zack Snyder</th>\n",
       "      <td id=\"T_3c422_row7_col0\" class=\"data row7 col0\" >975.740000</td>\n",
       "    </tr>\n",
       "    <tr>\n",
       "      <th id=\"T_3c422_level0_row8\" class=\"row_heading level0 row8\" >Peter Jackson</th>\n",
       "      <td id=\"T_3c422_row8_col0\" class=\"data row8 col0\" >860.450000</td>\n",
       "    </tr>\n",
       "    <tr>\n",
       "      <th id=\"T_3c422_level0_row9\" class=\"row_heading level0 row9\" >Justin Lin</th>\n",
       "      <td id=\"T_3c422_row9_col0\" class=\"data row9 col0\" >824.790000</td>\n",
       "    </tr>\n",
       "  </tbody>\n",
       "</table>\n"
      ],
      "text/plain": [
       "<pandas.io.formats.style.Styler at 0x1cf06f42820>"
      ]
     },
     "execution_count": 686,
     "metadata": {},
     "output_type": "execute_result"
    }
   ],
   "source": [
    "## les top 10 réalisateur niveau revenue\n",
    "top10 = box.sort_values([\"Revenue (Millions)\"], ascending=False).head(10)\n",
    "top10.style.background_gradient(cmap=\"Greens\")"
   ]
  },
  {
   "cell_type": "code",
   "execution_count": 687,
   "id": "58730aa5",
   "metadata": {},
   "outputs": [],
   "source": [
    "box.to_csv(r'./Total_Revenue.csv')## sauvgearder le résutat sur un fishier csv"
   ]
  },
  {
   "cell_type": "markdown",
   "id": "6defac14",
   "metadata": {},
   "source": [
    "## Q4: Création d'un graphique avec la moyenne des notes (colonne `rating`) des films en ordonnée et leur année en abscisse"
   ]
  },
  {
   "cell_type": "code",
   "execution_count": 688,
   "id": "cf03b508",
   "metadata": {},
   "outputs": [],
   "source": [
    "from matplotlib import pyplot as plt\n",
    "import seaborn as sns\n",
    "%matplotlib inline\n",
    "import warnings\n",
    "warnings.filterwarnings('ignore')"
   ]
  },
  {
   "cell_type": "code",
   "execution_count": 689,
   "id": "34f843e5",
   "metadata": {},
   "outputs": [
    {
     "data": {
      "text/plain": [
       "Index(['Title', 'Genre', 'Description', 'Director', 'Actors', 'Year',\n",
       "       'Runtime (Minutes)', 'Rating', 'Votes', 'Revenue (Millions)',\n",
       "       'Metascore'],\n",
       "      dtype='object')"
      ]
     },
     "execution_count": 689,
     "metadata": {},
     "output_type": "execute_result"
    }
   ],
   "source": [
    "df.columns"
   ]
  },
  {
   "cell_type": "code",
   "execution_count": 690,
   "id": "afaec3f4",
   "metadata": {},
   "outputs": [
    {
     "data": {
      "text/html": [
       "<div>\n",
       "<style scoped>\n",
       "    .dataframe tbody tr th:only-of-type {\n",
       "        vertical-align: middle;\n",
       "    }\n",
       "\n",
       "    .dataframe tbody tr th {\n",
       "        vertical-align: top;\n",
       "    }\n",
       "\n",
       "    .dataframe thead th {\n",
       "        text-align: right;\n",
       "    }\n",
       "</style>\n",
       "<table border=\"1\" class=\"dataframe\">\n",
       "  <thead>\n",
       "    <tr style=\"text-align: right;\">\n",
       "      <th></th>\n",
       "      <th></th>\n",
       "      <th>Rating</th>\n",
       "    </tr>\n",
       "    <tr>\n",
       "      <th>Title</th>\n",
       "      <th>Year</th>\n",
       "      <th></th>\n",
       "    </tr>\n",
       "  </thead>\n",
       "  <tbody>\n",
       "    <tr>\n",
       "      <th>The Dark Knight</th>\n",
       "      <th>2008</th>\n",
       "      <td>9.0</td>\n",
       "    </tr>\n",
       "    <tr>\n",
       "      <th>Inception</th>\n",
       "      <th>2010</th>\n",
       "      <td>8.8</td>\n",
       "    </tr>\n",
       "    <tr>\n",
       "      <th>Kimi no na wa</th>\n",
       "      <th>2016</th>\n",
       "      <td>8.6</td>\n",
       "    </tr>\n",
       "    <tr>\n",
       "      <th>The Intouchables</th>\n",
       "      <th>2011</th>\n",
       "      <td>8.6</td>\n",
       "    </tr>\n",
       "    <tr>\n",
       "      <th>Interstellar</th>\n",
       "      <th>2014</th>\n",
       "      <td>8.6</td>\n",
       "    </tr>\n",
       "    <tr>\n",
       "      <th>The Lives of Others</th>\n",
       "      <th>2006</th>\n",
       "      <td>8.5</td>\n",
       "    </tr>\n",
       "    <tr>\n",
       "      <th>Whiplash</th>\n",
       "      <th>2014</th>\n",
       "      <td>8.5</td>\n",
       "    </tr>\n",
       "    <tr>\n",
       "      <th>The Prestige</th>\n",
       "      <th>2006</th>\n",
       "      <td>8.5</td>\n",
       "    </tr>\n",
       "    <tr>\n",
       "      <th>The Departed</th>\n",
       "      <th>2006</th>\n",
       "      <td>8.5</td>\n",
       "    </tr>\n",
       "    <tr>\n",
       "      <th>The Dark Knight Rises</th>\n",
       "      <th>2012</th>\n",
       "      <td>8.5</td>\n",
       "    </tr>\n",
       "  </tbody>\n",
       "</table>\n",
       "</div>"
      ],
      "text/plain": [
       "                            Rating\n",
       "Title                 Year        \n",
       "The Dark Knight       2008     9.0\n",
       "Inception             2010     8.8\n",
       "Kimi no na wa         2016     8.6\n",
       "The Intouchables      2011     8.6\n",
       "Interstellar          2014     8.6\n",
       "The Lives of Others   2006     8.5\n",
       "Whiplash              2014     8.5\n",
       "The Prestige          2006     8.5\n",
       "The Departed          2006     8.5\n",
       "The Dark Knight Rises 2012     8.5"
      ]
     },
     "execution_count": 690,
     "metadata": {},
     "output_type": "execute_result"
    }
   ],
   "source": [
    "film = df.groupby(['Title',\"Year\"])['Rating'].mean().to_frame().sort_values(\"Rating\", ascending=False )# notre résultat ordonné par note\n",
    "# film.style.background_gradient(cmap=\"Reds\")\n",
    "film.head(10)"
   ]
  },
  {
   "cell_type": "code",
   "execution_count": 691,
   "id": "92c0c2c7",
   "metadata": {},
   "outputs": [
    {
     "data": {
      "text/html": [
       "<div>\n",
       "<style scoped>\n",
       "    .dataframe tbody tr th:only-of-type {\n",
       "        vertical-align: middle;\n",
       "    }\n",
       "\n",
       "    .dataframe tbody tr th {\n",
       "        vertical-align: top;\n",
       "    }\n",
       "\n",
       "    .dataframe thead th {\n",
       "        text-align: right;\n",
       "    }\n",
       "</style>\n",
       "<table border=\"1\" class=\"dataframe\">\n",
       "  <thead>\n",
       "    <tr style=\"text-align: right;\">\n",
       "      <th></th>\n",
       "      <th>Title</th>\n",
       "      <th>Year</th>\n",
       "      <th>Rating</th>\n",
       "    </tr>\n",
       "  </thead>\n",
       "  <tbody>\n",
       "    <tr>\n",
       "      <th>0</th>\n",
       "      <td>The Dark Knight</td>\n",
       "      <td>2008</td>\n",
       "      <td>9.0</td>\n",
       "    </tr>\n",
       "    <tr>\n",
       "      <th>1</th>\n",
       "      <td>Inception</td>\n",
       "      <td>2010</td>\n",
       "      <td>8.8</td>\n",
       "    </tr>\n",
       "    <tr>\n",
       "      <th>2</th>\n",
       "      <td>Kimi no na wa</td>\n",
       "      <td>2016</td>\n",
       "      <td>8.6</td>\n",
       "    </tr>\n",
       "    <tr>\n",
       "      <th>3</th>\n",
       "      <td>The Intouchables</td>\n",
       "      <td>2011</td>\n",
       "      <td>8.6</td>\n",
       "    </tr>\n",
       "    <tr>\n",
       "      <th>4</th>\n",
       "      <td>Interstellar</td>\n",
       "      <td>2014</td>\n",
       "      <td>8.6</td>\n",
       "    </tr>\n",
       "  </tbody>\n",
       "</table>\n",
       "</div>"
      ],
      "text/plain": [
       "              Title  Year  Rating\n",
       "0   The Dark Knight  2008     9.0\n",
       "1         Inception  2010     8.8\n",
       "2     Kimi no na wa  2016     8.6\n",
       "3  The Intouchables  2011     8.6\n",
       "4      Interstellar  2014     8.6"
      ]
     },
     "execution_count": 691,
     "metadata": {},
     "output_type": "execute_result"
    }
   ],
   "source": [
    "film = film.reset_index()\n",
    "film.head()"
   ]
  },
  {
   "cell_type": "code",
   "execution_count": 692,
   "id": "48126462",
   "metadata": {},
   "outputs": [
    {
     "data": {
      "text/html": [
       "<div>\n",
       "<style scoped>\n",
       "    .dataframe tbody tr th:only-of-type {\n",
       "        vertical-align: middle;\n",
       "    }\n",
       "\n",
       "    .dataframe tbody tr th {\n",
       "        vertical-align: top;\n",
       "    }\n",
       "\n",
       "    .dataframe thead th {\n",
       "        text-align: right;\n",
       "    }\n",
       "</style>\n",
       "<table border=\"1\" class=\"dataframe\">\n",
       "  <thead>\n",
       "    <tr style=\"text-align: right;\">\n",
       "      <th></th>\n",
       "      <th>Title</th>\n",
       "      <th>Year</th>\n",
       "      <th>Rating</th>\n",
       "    </tr>\n",
       "  </thead>\n",
       "  <tbody>\n",
       "    <tr>\n",
       "      <th>148</th>\n",
       "      <td>(500) Days of Summer</td>\n",
       "      <td>2009</td>\n",
       "      <td>7.7</td>\n",
       "    </tr>\n",
       "    <tr>\n",
       "      <th>283</th>\n",
       "      <td>10 Cloverfield Lane</td>\n",
       "      <td>2016</td>\n",
       "      <td>7.2</td>\n",
       "    </tr>\n",
       "    <tr>\n",
       "      <th>45</th>\n",
       "      <td>12 Years a Slave</td>\n",
       "      <td>2013</td>\n",
       "      <td>8.1</td>\n",
       "    </tr>\n",
       "    <tr>\n",
       "      <th>171</th>\n",
       "      <td>127 Hours</td>\n",
       "      <td>2010</td>\n",
       "      <td>7.6</td>\n",
       "    </tr>\n",
       "    <tr>\n",
       "      <th>268</th>\n",
       "      <td>13 Hours</td>\n",
       "      <td>2016</td>\n",
       "      <td>7.3</td>\n",
       "    </tr>\n",
       "  </tbody>\n",
       "</table>\n",
       "</div>"
      ],
      "text/plain": [
       "                    Title  Year  Rating\n",
       "148  (500) Days of Summer  2009     7.7\n",
       "283   10 Cloverfield Lane  2016     7.2\n",
       "45       12 Years a Slave  2013     8.1\n",
       "171             127 Hours  2010     7.6\n",
       "268              13 Hours  2016     7.3"
      ]
     },
     "execution_count": 692,
     "metadata": {},
     "output_type": "execute_result"
    }
   ],
   "source": [
    "film = film.sort_values(by=['Title'])## ordonner les film par ordre alphabétique\n",
    "film.head()"
   ]
  },
  {
   "cell_type": "markdown",
   "id": "c74cb3ab",
   "metadata": {},
   "source": [
    "## Seaborn Violin Plot"
   ]
  },
  {
   "cell_type": "markdown",
   "id": "0477af81",
   "metadata": {},
   "source": [
    "Violin plots are used to visualize data distributions, displaying the range, median, and distribution of the data."
   ]
  },
  {
   "cell_type": "code",
   "execution_count": 693,
   "id": "868cca4a",
   "metadata": {},
   "outputs": [
    {
     "data": {
      "image/png": "[encoded data removed]",
      "text/plain": [
       "<Figure size 1490.4x523.44 with 1 Axes>"
      ]
     },
     "metadata": {
      "needs_background": "light"
     },
     "output_type": "display_data"
    }
   ],
   "source": [
    "fig, axes = plt.subplots(1)\n",
    "fig.set_size_inches(20.7, 7.27)\n",
    "plt.subplots_adjust(wspace=0.2, hspace=0.4)\n",
    "\n",
    "swarm_plot = sns.violinplot(data=film, x='Year', y='Rating')\n",
    "swarm_plot.set_title(\"Rating by year\")\n",
    "fig = swarm_plot.get_figure()\n",
    "fig.savefig(\"IMDB_Plot1.jpeg\") # sauvegarder le graphe en image JPEG"
   ]
  },
  {
   "cell_type": "markdown",
   "id": "56bef04c",
   "metadata": {},
   "source": [
    "<div class=\"alert alert-success\">\n",
    "  <p><strong> La plage, la médiane et distribution des notes par an. </strong></p>\n",
    "</div>"
   ]
  },
  {
   "cell_type": "code",
   "execution_count": 694,
   "id": "f98997a0",
   "metadata": {},
   "outputs": [
    {
     "data": {
      "text/html": [
       "        <script type=\"text/javascript\">\n",
       "        window.PlotlyConfig = {MathJaxConfig: 'local'};\n",
       "        if (window.MathJax) {MathJax.Hub.Config({SVG: {font: \"STIX-Web\"}});}\n",
       "        if (typeof require !== 'undefined') {\n",
       "        require.undef(\"plotly\");\n",
       "        requirejs.config({\n",
       "            paths: {\n",
       "                'plotly': ['https://cdn.plot.ly/plotly-latest.min']\n",
       "            }\n",
       "        });\n",
       "        require(['plotly'], function(Plotly) {\n",
       "            window._Plotly = Plotly;\n",
       "        });\n",
       "        }\n",
       "        </script>\n",
       "        "
      ]
     },
     "metadata": {},
     "output_type": "display_data"
    },
    {
     "data": {
      "text/html": [
       "        <script type=\"text/javascript\">\n",
       "        window.PlotlyConfig = {MathJaxConfig: 'local'};\n",
       "        if (window.MathJax) {MathJax.Hub.Config({SVG: {font: \"STIX-Web\"}});}\n",
       "        if (typeof require !== 'undefined') {\n",
       "        require.undef(\"plotly\");\n",
       "        requirejs.config({\n",
       "            paths: {\n",
       "                'plotly': ['https://cdn.plot.ly/plotly-latest.min']\n",
       "            }\n",
       "        });\n",
       "        require(['plotly'], function(Plotly) {\n",
       "            window._Plotly = Plotly;\n",
       "        });\n",
       "        }\n",
       "        </script>\n",
       "        "
      ]
     },
     "metadata": {},
     "output_type": "display_data"
    }
   ],
   "source": [
    "import plotly\n",
    "import chart_studio.plotly as py\n",
    "\n",
    "import plotly.express as px\n",
    "import plotly.graph_objects as go\n",
    "plt.rcParams['figure.figsize']=17,8\n",
    "import cufflinks as cf\n",
    "\n",
    "import plotly.offline as pyo\n",
    "from plotly.offline import init_notebook_mode,plot,iplot\n",
    "\n",
    "pyo.init_notebook_mode(connected=True)\n",
    "cf.go_offline()"
   ]
  },
  {
   "cell_type": "code",
   "execution_count": 695,
   "id": "5fa81705",
   "metadata": {},
   "outputs": [
    {
     "data": {
      "application/vnd.plotly.v1+json": {
       "config": {
        "linkText": "Export to plot.ly",
        "plotlyServerURL": "https://plot.ly",
        "showLink": true
       },
       "data": [
        {
         "line": {
          "color": "rgba(55, 128, 191, 1.0)",
          "dash": "solid",
          "shape": "linear",
          "width": 1.3
         },
         "marker": {
          "size": 5,
          "symbol": "circle"
         },
         "mode": "markers",
         "name": "Rating",
         "text": "",
         "type": "scatter",
         "x": [
          2009,
          2016,
          2013,
          2010,
          2016,
          2007,
          2009,
          2009,
          2016,
          2008,
          2012,
          2014,
          2016,
          2007,
          2014,
          2009,
          2006,
          2014,
          2016,
          2013,
          2011,
          2015,
          2016,
          2006,
          2016,
          2016,
          2014,
          2016,
          2016,
          2016,
          2016,
          2014,
          2013,
          2007,
          2013,
          2013,
          2016,
          2014,
          2016,
          2010,
          2007,
          2010,
          2016,
          2016,
          2007,
          2016,
          2013,
          2012,
          2014,
          2012,
          2014,
          2014,
          2015,
          2016,
          2009,
          2006,
          2012,
          2016,
          2016,
          2007,
          2008,
          2009,
          2015,
          2006,
          2016,
          2016,
          2016,
          2016,
          2016,
          2012,
          2013,
          2014,
          2013,
          2016,
          2007,
          2014,
          2016,
          2014,
          2016,
          2015,
          2010,
          2015,
          2016,
          2016,
          2014,
          2006,
          2016,
          2013,
          2010,
          2008,
          2015,
          2016,
          2014,
          2012,
          2009,
          2011,
          2015,
          2007,
          2016,
          2015,
          2015,
          2016,
          2016,
          2016,
          2011,
          2014,
          2016,
          2013,
          2015,
          2013,
          2006,
          2011,
          2006,
          2016,
          2010,
          2008,
          2015,
          2014,
          2015,
          2006,
          2016,
          2016,
          2015,
          2010,
          2013,
          2012,
          2008,
          2014,
          2013,
          2016,
          2016,
          2016,
          2011,
          2009,
          2009,
          2011,
          2015,
          2016,
          2015,
          2015,
          2013,
          2012,
          2014,
          2016,
          2014,
          2016,
          2008,
          2016,
          2015,
          2016,
          2010,
          2013,
          2010,
          2012,
          2011,
          2016,
          2008,
          2009,
          2014,
          2012,
          2016,
          2013,
          2016,
          2016,
          2015,
          2014,
          2009,
          2012,
          2011,
          2008,
          2007,
          2010,
          2016,
          2014,
          2009,
          2015,
          2007,
          2012,
          2014,
          2013,
          2015,
          2015,
          2013,
          2015,
          2016,
          2013,
          2014,
          2014,
          2015,
          2016,
          2015,
          2009,
          2009,
          2011,
          2010,
          2016,
          2015,
          2011,
          2016,
          2012,
          2016,
          2015,
          2008,
          2011,
          2008,
          2016,
          2007,
          2016,
          2016,
          2007,
          2009,
          2016,
          2011,
          2013,
          2013,
          2015,
          2014,
          2013,
          2009,
          2013,
          2015,
          2007,
          2016,
          2016,
          2014,
          2016,
          2016,
          2007,
          2014,
          2015,
          2013,
          2011,
          2015,
          2016,
          2010,
          2013,
          2014,
          2016,
          2016,
          2007,
          2013,
          2008,
          2016,
          2011,
          2006,
          2015,
          2010,
          2011,
          2009,
          2007,
          2016,
          2008,
          2015,
          2013,
          2014,
          2016,
          2015,
          2015,
          2013,
          2011,
          2014,
          2007,
          2007,
          2015,
          2016,
          2010,
          2014,
          2011,
          2008,
          2016,
          2007,
          2011,
          2014,
          2010,
          2016,
          2006,
          2014,
          2015,
          2011,
          2008,
          2011,
          2015,
          2010,
          2010,
          2016,
          2008,
          2016,
          2016,
          2009,
          2014,
          2006,
          2015,
          2010,
          2015,
          2014,
          2015,
          2007,
          2014,
          2008,
          2010,
          2013,
          2014,
          2012,
          2016,
          2014,
          2016,
          2012,
          2011,
          2016,
          2009,
          2012,
          2014,
          2015,
          2008,
          2007,
          2015,
          2015,
          2011,
          2016,
          2016,
          2010,
          2013,
          2016,
          2016,
          2016,
          2016,
          2014,
          2015,
          2015,
          2007,
          2016,
          2008,
          2016,
          2009,
          2016,
          2016,
          2013,
          2016,
          2013,
          2006,
          2009,
          2012,
          2015,
          2010,
          2012,
          2010,
          2014,
          2010,
          2012,
          2016,
          2011,
          2012,
          2016,
          2006,
          2007,
          2016,
          2013,
          2016,
          2013,
          2012,
          2016,
          2010,
          2014,
          2016,
          2016,
          2016,
          2006,
          2014,
          2016,
          2015,
          2012,
          2014,
          2013,
          2008,
          2013,
          2012,
          2016,
          2006,
          2016,
          2015,
          2016,
          2015,
          2016,
          2015,
          2016,
          2010,
          2011,
          2012,
          2016,
          2011,
          2016,
          2015,
          2016,
          2016,
          2016,
          2011,
          2015,
          2006,
          2016,
          2014,
          2016,
          2011,
          2016,
          2013,
          2009,
          2016,
          2012,
          2016,
          2016,
          2013,
          2007,
          2016,
          2015,
          2016,
          2009,
          2014,
          2014,
          2016,
          2016,
          2008,
          2014,
          2014,
          2016,
          2007,
          2015,
          2011,
          2014,
          2016,
          2016,
          2009,
          2013,
          2016,
          2013,
          2013,
          2013,
          2007,
          2013,
          2016,
          2013,
          2011,
          2009,
          2016,
          2013,
          2013,
          2014,
          2013,
          2013,
          2015,
          2006,
          2009,
          2015,
          2016,
          2016,
          2016,
          2011,
          2010,
          2013,
          2006,
          2016,
          2016,
          2008,
          2010,
          2007,
          2006,
          2011,
          2012,
          2015,
          2015,
          2015,
          2014,
          2016,
          2009,
          2010,
          2016,
          2010,
          2013,
          2012,
          2012,
          2009,
          2008,
          2016,
          2010,
          2008,
          2007,
          2016,
          2011,
          2012,
          2015,
          2014,
          2010,
          2006,
          2010,
          2012,
          2016,
          2008,
          2013,
          2011,
          2011,
          2010,
          2014,
          2016,
          2012,
          2008,
          2006,
          2016,
          2015,
          2013,
          2013,
          2010,
          2015,
          2016,
          2012,
          2013,
          2010,
          2015,
          2011,
          2015,
          2008,
          2012,
          2014,
          2014,
          2008,
          2010,
          2011,
          2010,
          2006,
          2009,
          2011,
          2016,
          2007,
          2010,
          2015,
          2016,
          2012,
          2014,
          2016,
          2016,
          2012,
          2015,
          2012,
          2015,
          2016,
          2006,
          2008,
          2006,
          2012,
          2016,
          2013,
          2011,
          2015,
          2015,
          2007,
          2016,
          2015,
          2012,
          2015,
          2010,
          2009,
          2016,
          2013,
          2015,
          2007,
          2008,
          2006,
          2008,
          2015,
          2016,
          2015,
          2011,
          2016,
          2016,
          2007,
          2010,
          2011,
          2007,
          2006,
          2007,
          2016,
          2007,
          2008,
          2014,
          2006,
          2010,
          2012,
          2015,
          2014,
          2016,
          2015,
          2009,
          2013,
          2014,
          2016,
          2010,
          2016,
          2015,
          2016,
          2012,
          2014,
          2007,
          2012,
          2016,
          2014,
          2007,
          2016,
          2014,
          2015,
          2015,
          2009,
          2010,
          2014,
          2016,
          2012,
          2007,
          2016,
          2015,
          2008,
          2006,
          2012,
          2016,
          2016,
          2013,
          2016,
          2013,
          2008,
          2015,
          2006,
          2015,
          2008,
          2012,
          2015,
          2006,
          2011,
          2006,
          2012,
          2016,
          2016,
          2015,
          2014,
          2016,
          2014,
          2010,
          2012,
          2014,
          2006,
          2013,
          2006,
          2014,
          2010,
          2016,
          2012,
          2016,
          2006,
          2014,
          2010,
          2015,
          2016,
          2011,
          2014,
          2007,
          2014,
          2013,
          2016,
          2013,
          2014,
          2015,
          2009,
          2008,
          2015,
          2007,
          2013,
          2011,
          2006,
          2012,
          2014,
          2013,
          2016,
          2006,
          2013,
          2008,
          2009,
          2012,
          2013,
          2014,
          2015,
          2016,
          2008,
          2006,
          2009,
          2014,
          2008,
          2016,
          2015,
          2013,
          2014,
          2011,
          2015,
          2014,
          2016,
          2010,
          2010,
          2013,
          2015,
          2016,
          2014,
          2016,
          2006,
          2015,
          2014,
          2015,
          2016,
          2016,
          2009,
          2012,
          2016,
          2015,
          2015,
          2014,
          2008,
          2007,
          2013,
          2008,
          2016,
          2016,
          2008,
          2010,
          2014,
          2012,
          2012,
          2006,
          2009,
          2009,
          2013,
          2006,
          2015,
          2015,
          2015,
          2016,
          2013,
          2016,
          2011,
          2010,
          2013,
          2015,
          2008,
          2014,
          2011,
          2010,
          2011,
          2011,
          2012,
          2010,
          2009,
          2015,
          2015,
          2016,
          2013,
          2013,
          2013,
          2012,
          2016,
          2007,
          2013,
          2012,
          2011,
          2013,
          2011,
          2012,
          2015,
          2016,
          2012,
          2010,
          2015,
          2013,
          2014,
          2007,
          2014,
          2011,
          2009,
          2016,
          2016,
          2010,
          2008,
          2010,
          2010,
          2015,
          2014,
          2008,
          2014,
          2013,
          2012,
          2016,
          2009,
          2014,
          2011,
          2010,
          2009,
          2015,
          2014,
          2008,
          2015,
          2016,
          2016,
          2008,
          2016,
          2016,
          2013,
          2011,
          2009,
          2015,
          2011,
          2013,
          2013,
          2014,
          2012,
          2011,
          2014,
          2016,
          2013,
          2016,
          2014,
          2015,
          2013,
          2012,
          2012,
          2009,
          2016,
          2014,
          2006,
          2011,
          2008,
          2011,
          2015,
          2008,
          2012,
          2007,
          2009,
          2016,
          2016
         ],
         "y": [
          7.7,
          7.2,
          8.1,
          7.6,
          7.3,
          6.8,
          6.4,
          5.8,
          7.4,
          6.8,
          7.2,
          7.1,
          4,
          7,
          6.2,
          8.4,
          7.7,
          6.2,
          5.1,
          7.5,
          7.7,
          6.4,
          6.5,
          6.9,
          6.1,
          5.2,
          6.1,
          7.5,
          7.2,
          7.4,
          6.8,
          6.5,
          7.8,
          7.4,
          6.2,
          4.9,
          8.1,
          6.2,
          6.2,
          6.5,
          4.7,
          6.3,
          5.7,
          7.1,
          7.8,
          7,
          7.3,
          6.7,
          7.3,
          6.6,
          5.4,
          5.3,
          7.3,
          7.2,
          6.6,
          7.8,
          7.7,
          8,
          5.9,
          7.5,
          6.6,
          7.8,
          7.4,
          7.5,
          7.5,
          6.2,
          5.9,
          6.3,
          6.7,
          5.8,
          6.2,
          6.9,
          7.4,
          5.7,
          6.2,
          7.8,
          6.3,
          7.8,
          3.9,
          6.9,
          8,
          5.4,
          5.1,
          6.8,
          6.5,
          8,
          6.4,
          7.3,
          7.4,
          7.1,
          7.1,
          4.9,
          7.9,
          7.2,
          5.5,
          6.8,
          7.6,
          7.2,
          6.7,
          7.5,
          6.6,
          7.5,
          6.7,
          7.9,
          6.9,
          7.8,
          7.9,
          7.8,
          7.2,
          5.9,
          7.1,
          6.2,
          8,
          6.3,
          6.4,
          7.8,
          6.9,
          7.3,
          6.5,
          7.9,
          7,
          6.8,
          7,
          5.8,
          6.2,
          7.5,
          7,
          5.7,
          7.2,
          6.8,
          5.7,
          6.4,
          6.6,
          7.7,
          5.5,
          7.4,
          7.6,
          6.3,
          6.6,
          6.1,
          8,
          6.2,
          7.6,
          8,
          6.2,
          7.8,
          6.4,
          7.2,
          7,
          6.6,
          7.7,
          7.4,
          6.2,
          6.4,
          6.6,
          6,
          1.9,
          8,
          6.7,
          8.4,
          7.6,
          6.6,
          7.2,
          6.8,
          7.3,
          6.3,
          2.7,
          7.1,
          7.8,
          6.6,
          7.7,
          7.1,
          7.4,
          7.9,
          8.2,
          7.7,
          7.1,
          7.7,
          6.3,
          6.9,
          6.6,
          6.1,
          6.7,
          7.1,
          7,
          6.5,
          7.7,
          6,
          7.3,
          7.5,
          4.3,
          7.8,
          6.6,
          7.3,
          6.5,
          7.3,
          4.1,
          5.9,
          7.4,
          7.3,
          6.9,
          6.6,
          5.7,
          5.9,
          7.2,
          8,
          7.2,
          7.5,
          7,
          7.5,
          5.6,
          5.4,
          6.6,
          7.5,
          7.1,
          7.2,
          7.6,
          5.8,
          5.8,
          6.7,
          6,
          5.2,
          5.3,
          5.5,
          6.4,
          7.5,
          6.7,
          7.7,
          8.1,
          6.3,
          7.8,
          5.6,
          7,
          6.2,
          6,
          5.4,
          8.1,
          8.2,
          6.3,
          6.7,
          6.2,
          6.4,
          6.6,
          6.8,
          6.5,
          6.7,
          7.7,
          8.1,
          7.5,
          7.5,
          7.7,
          7,
          6.7,
          8,
          6,
          7.8,
          5.7,
          6.7,
          6.5,
          6.9,
          6.3,
          5.5,
          7.9,
          6.7,
          6.1,
          8.1,
          7.9,
          7.5,
          7.6,
          7.9,
          7.2,
          6.1,
          7.3,
          6.3,
          5.7,
          6.6,
          6.8,
          6.4,
          6,
          7.9,
          6.7,
          6.9,
          8.2,
          8.8,
          5.3,
          6.2,
          6.9,
          6.2,
          8.3,
          6.7,
          7.6,
          8.2,
          6.8,
          6.3,
          8.6,
          5.9,
          8.1,
          6,
          7.9,
          7,
          7.2,
          6.9,
          7,
          6.1,
          6.2,
          6.8,
          8.3,
          7.4,
          6.7,
          5.1,
          6.6,
          7.2,
          6.6,
          6.1,
          7.5,
          5.3,
          7,
          6.4,
          6.3,
          5.8,
          7.7,
          6.6,
          4.9,
          6.1,
          8.6,
          5.6,
          7.7,
          5.7,
          4.9,
          7,
          7.9,
          7.6,
          7.2,
          7.3,
          7.1,
          8.3,
          7.8,
          7.6,
          7.8,
          5.6,
          7.4,
          7.3,
          7,
          5.2,
          7.6,
          7.2,
          6.5,
          6.6,
          7.9,
          6.4,
          7.4,
          7.4,
          8.1,
          7.8,
          7.2,
          6.4,
          7.1,
          5.9,
          7.5,
          7.4,
          6.5,
          6.7,
          7.2,
          6.4,
          7.1,
          6.3,
          7.8,
          6.4,
          7.8,
          8.1,
          6.1,
          7,
          6.2,
          6.4,
          7.1,
          6.6,
          7.9,
          6.4,
          5.8,
          6.8,
          4.6,
          6.3,
          7.4,
          7.8,
          5.6,
          7.3,
          7.1,
          6.8,
          6.7,
          7.7,
          6,
          6.4,
          7,
          6.7,
          7.3,
          7.4,
          7.4,
          6.9,
          7.7,
          8.1,
          6.5,
          7.6,
          5.7,
          7.3,
          7.9,
          7.5,
          7.8,
          5.8,
          5.6,
          4.3,
          7.3,
          7.7,
          6.3,
          6,
          7.8,
          6.5,
          6.4,
          5.7,
          6.6,
          6.6,
          6.2,
          7.9,
          5.3,
          8.1,
          6.8,
          6.2,
          5.8,
          7.5,
          7.1,
          6.7,
          7.3,
          6.5,
          7,
          6.7,
          7,
          6.9,
          6.5,
          5.8,
          6.5,
          7,
          7,
          6.1,
          6.8,
          6.3,
          8.2,
          7,
          6.5,
          5.8,
          8.2,
          6.8,
          6.3,
          7,
          7.5,
          7.4,
          7,
          5.9,
          5.9,
          7.5,
          6.3,
          6.8,
          7,
          5.5,
          7.1,
          7.3,
          6.7,
          7.2,
          6.5,
          5.6,
          5.3,
          5.5,
          6.7,
          7.3,
          6.4,
          5.8,
          6.6,
          8.1,
          6.7,
          7,
          7,
          6.6,
          7.4,
          7.1,
          7.1,
          8,
          7.5,
          7.1,
          5.4,
          5.7,
          8.1,
          7.2,
          7.3,
          5.9,
          5.4,
          5.6,
          7.3,
          6.4,
          6.9,
          7.6,
          6.7,
          6.2,
          5.8,
          5.9,
          7.3,
          7.2,
          7.9,
          8.2,
          8.1,
          6.7,
          6.4,
          6.1,
          6.3,
          6.5,
          7.5,
          7.5,
          6.3,
          6.2,
          6.5,
          7.7,
          7.2,
          5.5,
          5.1,
          5.5,
          4.3,
          7.2,
          6.4,
          6.4,
          7.6,
          7.5,
          6.9,
          7.2,
          8.1,
          7.6,
          7.3,
          7.8,
          6.5,
          7.2,
          8,
          6.8,
          6,
          7.8,
          6.5,
          6,
          6.5,
          8,
          5.6,
          6.1,
          7.3,
          7,
          7.5,
          7.4,
          6.8,
          6.2,
          7.3,
          8.1,
          5.3,
          7.1,
          6.5,
          8,
          7.1,
          7.8,
          8.1,
          7.7,
          6.9,
          6.5,
          6.2,
          7.2,
          6.9,
          7.9,
          6.1,
          6.2,
          7.5,
          7.3,
          6.8,
          7.1,
          7.6,
          6.1,
          7.4,
          7.1,
          8.5,
          7.8,
          6,
          6.6,
          7.8,
          7,
          6.3,
          5.9,
          6,
          6.5,
          6.6,
          4.8,
          6.2,
          5.2,
          6.8,
          7.4,
          7.2,
          7.2,
          7,
          6.7,
          7.5,
          8.1,
          6.4,
          6.8,
          5.7,
          6.3,
          6.7,
          7.8,
          5.6,
          7.7,
          6.9,
          7.3,
          5.4,
          6.7,
          8.1,
          6,
          4.6,
          7.8,
          5.8,
          7,
          6.6,
          5.4,
          7.5,
          7.4,
          5.3,
          7.8,
          6.5,
          6.6,
          7,
          9,
          8.5,
          6.7,
          8.5,
          7.3,
          6.8,
          6.4,
          3.9,
          5.7,
          7.1,
          7.1,
          7.4,
          7.2,
          6.5,
          6.6,
          6.1,
          7.9,
          6.3,
          6,
          7.8,
          7.8,
          6.8,
          6.9,
          7.2,
          7.3,
          6,
          7.2,
          7.1,
          6.5,
          7.8,
          6.5,
          6.1,
          8.1,
          7.3,
          6.1,
          5.4,
          6.7,
          5.8,
          7.8,
          5,
          7.8,
          5.8,
          6.6,
          8.1,
          6.4,
          7.9,
          7.4,
          7.9,
          6.5,
          7,
          5.9,
          5.5,
          4.4,
          7.2,
          7.6,
          6.7,
          6.6,
          6.1,
          7.6,
          7.6,
          6.8,
          8.1,
          6.8,
          7.1,
          7.1,
          6.3,
          6.6,
          8.6,
          6.7,
          7.4,
          7.5,
          6.2,
          8,
          7.2,
          6,
          6.3,
          7.8,
          7.2,
          8.5,
          7.1,
          6.3,
          7.1,
          7.1,
          6.2,
          6.7,
          6.5,
          6.9,
          7.3,
          8,
          6.8,
          6.1,
          7.2,
          5.9,
          5.2,
          6.2,
          7.4,
          6.7,
          6.7,
          6,
          8,
          7.3,
          8.5,
          7.1,
          6.7,
          5.7,
          8,
          8,
          5.1,
          5.9,
          6.6,
          7.3,
          6.4,
          7.6,
          7.7,
          7.1,
          6.9,
          6.2,
          7.7,
          5.8,
          7.6,
          6.8,
          4.9,
          5.5,
          4.9,
          6.5,
          6.8,
          6.2,
          5.8,
          8.2,
          6.7,
          7,
          7.6,
          7,
          8.1,
          6.6,
          6.3,
          7,
          7,
          7.1,
          6.3,
          6.5,
          7.6,
          6.3,
          8.3,
          6.3,
          7,
          6.3,
          7.1,
          5.7,
          6.3,
          6,
          6.3,
          6.5,
          6.8,
          7,
          7.6,
          7,
          6.7,
          5.4,
          5.2,
          7.2,
          6.3,
          6.4,
          5.8,
          6.6,
          5.6,
          6.9,
          6.8,
          8.3,
          6.1,
          5.6,
          7.1,
          6,
          4.7,
          7.5,
          6.7,
          7.1,
          7,
          6.9,
          8.2,
          7.6,
          6.2,
          7.5,
          7,
          6.8,
          7.6,
          5.7,
          6.1,
          8.5,
          5.8,
          6.4,
          6.3,
          7.1,
          7.3,
          7,
          5.8,
          7.8,
          6.7,
          7.1,
          8,
          6.7,
          7.8,
          5.5,
          5.6,
          7.3,
          6.6,
          7.4,
          7.7,
          7.7,
          4.7,
          8.1
         ]
        }
       ],
       "layout": {
        "legend": {
         "bgcolor": "#F5F6F9",
         "font": {
          "color": "#4D5663"
         }
        },
        "paper_bgcolor": "#F5F6F9",
        "plot_bgcolor": "#F5F6F9",
        "template": {
         "data": {
          "bar": [
           {
            "error_x": {
             "color": "#2a3f5f"
            },
            "error_y": {
             "color": "#2a3f5f"
            },
            "marker": {
             "line": {
              "color": "#E5ECF6",
              "width": 0.5
             }
            },
            "type": "bar"
           }
          ],
          "barpolar": [
           {
            "marker": {
             "line": {
              "color": "#E5ECF6",
              "width": 0.5
             }
            },
            "type": "barpolar"
           }
          ],
          "carpet": [
           {
            "aaxis": {
             "endlinecolor": "#2a3f5f",
             "gridcolor": "white",
             "linecolor": "white",
             "minorgridcolor": "white",
             "startlinecolor": "#2a3f5f"
            },
            "baxis": {
             "endlinecolor": "#2a3f5f",
             "gridcolor": "white",
             "linecolor": "white",
             "minorgridcolor": "white",
             "startlinecolor": "#2a3f5f"
            },
            "type": "carpet"
           }
          ],
          "choropleth": [
           {
            "colorbar": {
             "outlinewidth": 0,
             "ticks": ""
            },
            "type": "choropleth"
           }
          ],
          "contour": [
           {
            "colorbar": {
             "outlinewidth": 0,
             "ticks": ""
            },
            "colorscale": [
             [
              0,
              "#0d0887"
             ],
             [
              0.1111111111111111,
              "#46039f"
             ],
             [
              0.2222222222222222,
              "#7201a8"
             ],
             [
              0.3333333333333333,
              "#9c179e"
             ],
             [
              0.4444444444444444,
              "#bd3786"
             ],
             [
              0.5555555555555556,
              "#d8576b"
             ],
             [
              0.6666666666666666,
              "#ed7953"
             ],
             [
              0.7777777777777778,
              "#fb9f3a"
             ],
             [
              0.8888888888888888,
              "#fdca26"
             ],
             [
              1,
              "#f0f921"
             ]
            ],
            "type": "contour"
           }
          ],
          "contourcarpet": [
           {
            "colorbar": {
             "outlinewidth": 0,
             "ticks": ""
            },
            "type": "contourcarpet"
           }
          ],
          "heatmap": [
           {
            "colorbar": {
             "outlinewidth": 0,
             "ticks": ""
            },
            "colorscale": [
             [
              0,
              "#0d0887"
             ],
             [
              0.1111111111111111,
              "#46039f"
             ],
             [
              0.2222222222222222,
              "#7201a8"
             ],
             [
              0.3333333333333333,
              "#9c179e"
             ],
             [
              0.4444444444444444,
              "#bd3786"
             ],
             [
              0.5555555555555556,
              "#d8576b"
             ],
             [
              0.6666666666666666,
              "#ed7953"
             ],
             [
              0.7777777777777778,
              "#fb9f3a"
             ],
             [
              0.8888888888888888,
              "#fdca26"
             ],
             [
              1,
              "#f0f921"
             ]
            ],
            "type": "heatmap"
           }
          ],
          "heatmapgl": [
           {
            "colorbar": {
             "outlinewidth": 0,
             "ticks": ""
            },
            "colorscale": [
             [
              0,
              "#0d0887"
             ],
             [
              0.1111111111111111,
              "#46039f"
             ],
             [
              0.2222222222222222,
              "#7201a8"
             ],
             [
              0.3333333333333333,
              "#9c179e"
             ],
             [
              0.4444444444444444,
              "#bd3786"
             ],
             [
              0.5555555555555556,
              "#d8576b"
             ],
             [
              0.6666666666666666,
              "#ed7953"
             ],
             [
              0.7777777777777778,
              "#fb9f3a"
             ],
             [
              0.8888888888888888,
              "#fdca26"
             ],
             [
              1,
              "#f0f921"
             ]
            ],
            "type": "heatmapgl"
           }
          ],
          "histogram": [
           {
            "marker": {
             "colorbar": {
              "outlinewidth": 0,
              "ticks": ""
             }
            },
            "type": "histogram"
           }
          ],
          "histogram2d": [
           {
            "colorbar": {
             "outlinewidth": 0,
             "ticks": ""
            },
            "colorscale": [
             [
              0,
              "#0d0887"
             ],
             [
              0.1111111111111111,
              "#46039f"
             ],
             [
              0.2222222222222222,
              "#7201a8"
             ],
             [
              0.3333333333333333,
              "#9c179e"
             ],
             [
              0.4444444444444444,
              "#bd3786"
             ],
             [
              0.5555555555555556,
              "#d8576b"
             ],
             [
              0.6666666666666666,
              "#ed7953"
             ],
             [
              0.7777777777777778,
              "#fb9f3a"
             ],
             [
              0.8888888888888888,
              "#fdca26"
             ],
             [
              1,
              "#f0f921"
             ]
            ],
            "type": "histogram2d"
           }
          ],
          "histogram2dcontour": [
           {
            "colorbar": {
             "outlinewidth": 0,
             "ticks": ""
            },
            "colorscale": [
             [
              0,
              "#0d0887"
             ],
             [
              0.1111111111111111,
              "#46039f"
             ],
             [
              0.2222222222222222,
              "#7201a8"
             ],
             [
              0.3333333333333333,
              "#9c179e"
             ],
             [
              0.4444444444444444,
              "#bd3786"
             ],
             [
              0.5555555555555556,
              "#d8576b"
             ],
             [
              0.6666666666666666,
              "#ed7953"
             ],
             [
              0.7777777777777778,
              "#fb9f3a"
             ],
             [
              0.8888888888888888,
              "#fdca26"
             ],
             [
              1,
              "#f0f921"
             ]
            ],
            "type": "histogram2dcontour"
           }
          ],
          "mesh3d": [
           {
            "colorbar": {
             "outlinewidth": 0,
             "ticks": ""
            },
            "type": "mesh3d"
           }
          ],
          "parcoords": [
           {
            "line": {
             "colorbar": {
              "outlinewidth": 0,
              "ticks": ""
             }
            },
            "type": "parcoords"
           }
          ],
          "pie": [
           {
            "automargin": true,
            "type": "pie"
           }
          ],
          "scatter": [
           {
            "marker": {
             "colorbar": {
              "outlinewidth": 0,
              "ticks": ""
             }
            },
            "type": "scatter"
           }
          ],
          "scatter3d": [
           {
            "line": {
             "colorbar": {
              "outlinewidth": 0,
              "ticks": ""
             }
            },
            "marker": {
             "colorbar": {
              "outlinewidth": 0,
              "ticks": ""
             }
            },
            "type": "scatter3d"
           }
          ],
          "scattercarpet": [
           {
            "marker": {
             "colorbar": {
              "outlinewidth": 0,
              "ticks": ""
             }
            },
            "type": "scattercarpet"
           }
          ],
          "scattergeo": [
           {
            "marker": {
             "colorbar": {
              "outlinewidth": 0,
              "ticks": ""
             }
            },
            "type": "scattergeo"
           }
          ],
          "scattergl": [
           {
            "marker": {
             "colorbar": {
              "outlinewidth": 0,
              "ticks": ""
             }
            },
            "type": "scattergl"
           }
          ],
          "scattermapbox": [
           {
            "marker": {
             "colorbar": {
              "outlinewidth": 0,
              "ticks": ""
             }
            },
            "type": "scattermapbox"
           }
          ],
          "scatterpolar": [
           {
            "marker": {
             "colorbar": {
              "outlinewidth": 0,
              "ticks": ""
             }
            },
            "type": "scatterpolar"
           }
          ],
          "scatterpolargl": [
           {
            "marker": {
             "colorbar": {
              "outlinewidth": 0,
              "ticks": ""
             }
            },
            "type": "scatterpolargl"
           }
          ],
          "scatterternary": [
           {
            "marker": {
             "colorbar": {
              "outlinewidth": 0,
              "ticks": ""
             }
            },
            "type": "scatterternary"
           }
          ],
          "surface": [
           {
            "colorbar": {
             "outlinewidth": 0,
             "ticks": ""
            },
            "colorscale": [
             [
              0,
              "#0d0887"
             ],
             [
              0.1111111111111111,
              "#46039f"
             ],
             [
              0.2222222222222222,
              "#7201a8"
             ],
             [
              0.3333333333333333,
              "#9c179e"
             ],
             [
              0.4444444444444444,
              "#bd3786"
             ],
             [
              0.5555555555555556,
              "#d8576b"
             ],
             [
              0.6666666666666666,
              "#ed7953"
             ],
             [
              0.7777777777777778,
              "#fb9f3a"
             ],
             [
              0.8888888888888888,
              "#fdca26"
             ],
             [
              1,
              "#f0f921"
             ]
            ],
            "type": "surface"
           }
          ],
          "table": [
           {
            "cells": {
             "fill": {
              "color": "#EBF0F8"
             },
             "line": {
              "color": "white"
             }
            },
            "header": {
             "fill": {
              "color": "#C8D4E3"
             },
             "line": {
              "color": "white"
             }
            },
            "type": "table"
           }
          ]
         },
         "layout": {
          "annotationdefaults": {
           "arrowcolor": "#2a3f5f",
           "arrowhead": 0,
           "arrowwidth": 1
          },
          "autotypenumbers": "strict",
          "coloraxis": {
           "colorbar": {
            "outlinewidth": 0,
            "ticks": ""
           }
          },
          "colorscale": {
           "diverging": [
            [
             0,
             "#8e0152"
            ],
            [
             0.1,
             "#c51b7d"
            ],
            [
             0.2,
             "#de77ae"
            ],
            [
             0.3,
             "#f1b6da"
            ],
            [
             0.4,
             "#fde0ef"
            ],
            [
             0.5,
             "#f7f7f7"
            ],
            [
             0.6,
             "#e6f5d0"
            ],
            [
             0.7,
             "#b8e186"
            ],
            [
             0.8,
             "#7fbc41"
            ],
            [
             0.9,
             "#4d9221"
            ],
            [
             1,
             "#276419"
            ]
           ],
           "sequential": [
            [
             0,
             "#0d0887"
            ],
            [
             0.1111111111111111,
             "#46039f"
            ],
            [
             0.2222222222222222,
             "#7201a8"
            ],
            [
             0.3333333333333333,
             "#9c179e"
            ],
            [
             0.4444444444444444,
             "#bd3786"
            ],
            [
             0.5555555555555556,
             "#d8576b"
            ],
            [
             0.6666666666666666,
             "#ed7953"
            ],
            [
             0.7777777777777778,
             "#fb9f3a"
            ],
            [
             0.8888888888888888,
             "#fdca26"
            ],
            [
             1,
             "#f0f921"
            ]
           ],
           "sequentialminus": [
            [
             0,
             "#0d0887"
            ],
            [
             0.1111111111111111,
             "#46039f"
            ],
            [
             0.2222222222222222,
             "#7201a8"
            ],
            [
             0.3333333333333333,
             "#9c179e"
            ],
            [
             0.4444444444444444,
             "#bd3786"
            ],
            [
             0.5555555555555556,
             "#d8576b"
            ],
            [
             0.6666666666666666,
             "#ed7953"
            ],
            [
             0.7777777777777778,
             "#fb9f3a"
            ],
            [
             0.8888888888888888,
             "#fdca26"
            ],
            [
             1,
             "#f0f921"
            ]
           ]
          },
          "colorway": [
           "#636efa",
           "#EF553B",
           "#00cc96",
           "#ab63fa",
           "#FFA15A",
           "#19d3f3",
           "#FF6692",
           "#B6E880",
           "#FF97FF",
           "#FECB52"
          ],
          "font": {
           "color": "#2a3f5f"
          },
          "geo": {
           "bgcolor": "white",
           "lakecolor": "white",
           "landcolor": "#E5ECF6",
           "showlakes": true,
           "showland": true,
           "subunitcolor": "white"
          },
          "hoverlabel": {
           "align": "left"
          },
          "hovermode": "closest",
          "mapbox": {
           "style": "light"
          },
          "paper_bgcolor": "white",
          "plot_bgcolor": "#E5ECF6",
          "polar": {
           "angularaxis": {
            "gridcolor": "white",
            "linecolor": "white",
            "ticks": ""
           },
           "bgcolor": "#E5ECF6",
           "radialaxis": {
            "gridcolor": "white",
            "linecolor": "white",
            "ticks": ""
           }
          },
          "scene": {
           "xaxis": {
            "backgroundcolor": "#E5ECF6",
            "gridcolor": "white",
            "gridwidth": 2,
            "linecolor": "white",
            "showbackground": true,
            "ticks": "",
            "zerolinecolor": "white"
           },
           "yaxis": {
            "backgroundcolor": "#E5ECF6",
            "gridcolor": "white",
            "gridwidth": 2,
            "linecolor": "white",
            "showbackground": true,
            "ticks": "",
            "zerolinecolor": "white"
           },
           "zaxis": {
            "backgroundcolor": "#E5ECF6",
            "gridcolor": "white",
            "gridwidth": 2,
            "linecolor": "white",
            "showbackground": true,
            "ticks": "",
            "zerolinecolor": "white"
           }
          },
          "shapedefaults": {
           "line": {
            "color": "#2a3f5f"
           }
          },
          "ternary": {
           "aaxis": {
            "gridcolor": "white",
            "linecolor": "white",
            "ticks": ""
           },
           "baxis": {
            "gridcolor": "white",
            "linecolor": "white",
            "ticks": ""
           },
           "bgcolor": "#E5ECF6",
           "caxis": {
            "gridcolor": "white",
            "linecolor": "white",
            "ticks": ""
           }
          },
          "title": {
           "x": 0.05
          },
          "xaxis": {
           "automargin": true,
           "gridcolor": "white",
           "linecolor": "white",
           "ticks": "",
           "title": {
            "standoff": 15
           },
           "zerolinecolor": "white",
           "zerolinewidth": 2
          },
          "yaxis": {
           "automargin": true,
           "gridcolor": "white",
           "linecolor": "white",
           "ticks": "",
           "title": {
            "standoff": 15
           },
           "zerolinecolor": "white",
           "zerolinewidth": 2
          }
         }
        },
        "title": {
         "font": {
          "color": "#4D5663"
         },
         "text": "La moyenne de note des film par an : "
        },
        "xaxis": {
         "gridcolor": "#E1E5ED",
         "showgrid": true,
         "tickfont": {
          "color": "#4D5663"
         },
         "title": {
          "font": {
           "color": "#4D5663"
          },
          "text": "Année"
         },
         "zerolinecolor": "#E1E5ED"
        },
        "yaxis": {
         "gridcolor": "#E1E5ED",
         "showgrid": true,
         "tickfont": {
          "color": "#4D5663"
         },
         "title": {
          "font": {
           "color": "#4D5663"
          },
          "text": "Note"
         },
         "zerolinecolor": "#E1E5ED"
        }
       }
      },
      "text/html": [
       "<div>                            <div id=\"4f5b556e-2e2d-4f58-8eb1-99f45099c22b\" class=\"plotly-graph-div\" style=\"height:525px; width:100%;\"></div>            <script type=\"text/javascript\">                require([\"plotly\"], function(Plotly) {                    window.PLOTLYENV=window.PLOTLYENV || {};\n",
       "                    window.PLOTLYENV.BASE_URL='https://plot.ly';                                    if (document.getElementById(\"4f5b556e-2e2d-4f58-8eb1-99f45099c22b\")) {                    Plotly.newPlot(                        \"4f5b556e-2e2d-4f58-8eb1-99f45099c22b\",                        [{\"line\": {\"color\": \"rgba(55, 128, 191, 1.0)\", \"dash\": \"solid\", \"shape\": \"linear\", \"width\": 1.3}, \"marker\": {\"size\": 5, \"symbol\": \"circle\"}, \"mode\": \"markers\", \"name\": \"Rating\", \"text\": \"\", \"type\": \"scatter\", \"x\": [2009, 2016, 2013, 2010, 2016, 2007, 2009, 2009, 2016, 2008, 2012, 2014, 2016, 2007, 2014, 2009, 2006, 2014, 2016, 2013, 2011, 2015, 2016, 2006, 2016, 2016, 2014, 2016, 2016, 2016, 2016, 2014, 2013, 2007, 2013, 2013, 2016, 2014, 2016, 2010, 2007, 2010, 2016, 2016, 2007, 2016, 2013, 2012, 2014, 2012, 2014, 2014, 2015, 2016, 2009, 2006, 2012, 2016, 2016, 2007, 2008, 2009, 2015, 2006, 2016, 2016, 2016, 2016, 2016, 2012, 2013, 2014, 2013, 2016, 2007, 2014, 2016, 2014, 2016, 2015, 2010, 2015, 2016, 2016, 2014, 2006, 2016, 2013, 2010, 2008, 2015, 2016, 2014, 2012, 2009, 2011, 2015, 2007, 2016, 2015, 2015, 2016, 2016, 2016, 2011, 2014, 2016, 2013, 2015, 2013, 2006, 2011, 2006, 2016, 2010, 2008, 2015, 2014, 2015, 2006, 2016, 2016, 2015, 2010, 2013, 2012, 2008, 2014, 2013, 2016, 2016, 2016, 2011, 2009, 2009, 2011, 2015, 2016, 2015, 2015, 2013, 2012, 2014, 2016, 2014, 2016, 2008, 2016, 2015, 2016, 2010, 2013, 2010, 2012, 2011, 2016, 2008, 2009, 2014, 2012, 2016, 2013, 2016, 2016, 2015, 2014, 2009, 2012, 2011, 2008, 2007, 2010, 2016, 2014, 2009, 2015, 2007, 2012, 2014, 2013, 2015, 2015, 2013, 2015, 2016, 2013, 2014, 2014, 2015, 2016, 2015, 2009, 2009, 2011, 2010, 2016, 2015, 2011, 2016, 2012, 2016, 2015, 2008, 2011, 2008, 2016, 2007, 2016, 2016, 2007, 2009, 2016, 2011, 2013, 2013, 2015, 2014, 2013, 2009, 2013, 2015, 2007, 2016, 2016, 2014, 2016, 2016, 2007, 2014, 2015, 2013, 2011, 2015, 2016, 2010, 2013, 2014, 2016, 2016, 2007, 2013, 2008, 2016, 2011, 2006, 2015, 2010, 2011, 2009, 2007, 2016, 2008, 2015, 2013, 2014, 2016, 2015, 2015, 2013, 2011, 2014, 2007, 2007, 2015, 2016, 2010, 2014, 2011, 2008, 2016, 2007, 2011, 2014, 2010, 2016, 2006, 2014, 2015, 2011, 2008, 2011, 2015, 2010, 2010, 2016, 2008, 2016, 2016, 2009, 2014, 2006, 2015, 2010, 2015, 2014, 2015, 2007, 2014, 2008, 2010, 2013, 2014, 2012, 2016, 2014, 2016, 2012, 2011, 2016, 2009, 2012, 2014, 2015, 2008, 2007, 2015, 2015, 2011, 2016, 2016, 2010, 2013, 2016, 2016, 2016, 2016, 2014, 2015, 2015, 2007, 2016, 2008, 2016, 2009, 2016, 2016, 2013, 2016, 2013, 2006, 2009, 2012, 2015, 2010, 2012, 2010, 2014, 2010, 2012, 2016, 2011, 2012, 2016, 2006, 2007, 2016, 2013, 2016, 2013, 2012, 2016, 2010, 2014, 2016, 2016, 2016, 2006, 2014, 2016, 2015, 2012, 2014, 2013, 2008, 2013, 2012, 2016, 2006, 2016, 2015, 2016, 2015, 2016, 2015, 2016, 2010, 2011, 2012, 2016, 2011, 2016, 2015, 2016, 2016, 2016, 2011, 2015, 2006, 2016, 2014, 2016, 2011, 2016, 2013, 2009, 2016, 2012, 2016, 2016, 2013, 2007, 2016, 2015, 2016, 2009, 2014, 2014, 2016, 2016, 2008, 2014, 2014, 2016, 2007, 2015, 2011, 2014, 2016, 2016, 2009, 2013, 2016, 2013, 2013, 2013, 2007, 2013, 2016, 2013, 2011, 2009, 2016, 2013, 2013, 2014, 2013, 2013, 2015, 2006, 2009, 2015, 2016, 2016, 2016, 2011, 2010, 2013, 2006, 2016, 2016, 2008, 2010, 2007, 2006, 2011, 2012, 2015, 2015, 2015, 2014, 2016, 2009, 2010, 2016, 2010, 2013, 2012, 2012, 2009, 2008, 2016, 2010, 2008, 2007, 2016, 2011, 2012, 2015, 2014, 2010, 2006, 2010, 2012, 2016, 2008, 2013, 2011, 2011, 2010, 2014, 2016, 2012, 2008, 2006, 2016, 2015, 2013, 2013, 2010, 2015, 2016, 2012, 2013, 2010, 2015, 2011, 2015, 2008, 2012, 2014, 2014, 2008, 2010, 2011, 2010, 2006, 2009, 2011, 2016, 2007, 2010, 2015, 2016, 2012, 2014, 2016, 2016, 2012, 2015, 2012, 2015, 2016, 2006, 2008, 2006, 2012, 2016, 2013, 2011, 2015, 2015, 2007, 2016, 2015, 2012, 2015, 2010, 2009, 2016, 2013, 2015, 2007, 2008, 2006, 2008, 2015, 2016, 2015, 2011, 2016, 2016, 2007, 2010, 2011, 2007, 2006, 2007, 2016, 2007, 2008, 2014, 2006, 2010, 2012, 2015, 2014, 2016, 2015, 2009, 2013, 2014, 2016, 2010, 2016, 2015, 2016, 2012, 2014, 2007, 2012, 2016, 2014, 2007, 2016, 2014, 2015, 2015, 2009, 2010, 2014, 2016, 2012, 2007, 2016, 2015, 2008, 2006, 2012, 2016, 2016, 2013, 2016, 2013, 2008, 2015, 2006, 2015, 2008, 2012, 2015, 2006, 2011, 2006, 2012, 2016, 2016, 2015, 2014, 2016, 2014, 2010, 2012, 2014, 2006, 2013, 2006, 2014, 2010, 2016, 2012, 2016, 2006, 2014, 2010, 2015, 2016, 2011, 2014, 2007, 2014, 2013, 2016, 2013, 2014, 2015, 2009, 2008, 2015, 2007, 2013, 2011, 2006, 2012, 2014, 2013, 2016, 2006, 2013, 2008, 2009, 2012, 2013, 2014, 2015, 2016, 2008, 2006, 2009, 2014, 2008, 2016, 2015, 2013, 2014, 2011, 2015, 2014, 2016, 2010, 2010, 2013, 2015, 2016, 2014, 2016, 2006, 2015, 2014, 2015, 2016, 2016, 2009, 2012, 2016, 2015, 2015, 2014, 2008, 2007, 2013, 2008, 2016, 2016, 2008, 2010, 2014, 2012, 2012, 2006, 2009, 2009, 2013, 2006, 2015, 2015, 2015, 2016, 2013, 2016, 2011, 2010, 2013, 2015, 2008, 2014, 2011, 2010, 2011, 2011, 2012, 2010, 2009, 2015, 2015, 2016, 2013, 2013, 2013, 2012, 2016, 2007, 2013, 2012, 2011, 2013, 2011, 2012, 2015, 2016, 2012, 2010, 2015, 2013, 2014, 2007, 2014, 2011, 2009, 2016, 2016, 2010, 2008, 2010, 2010, 2015, 2014, 2008, 2014, 2013, 2012, 2016, 2009, 2014, 2011, 2010, 2009, 2015, 2014, 2008, 2015, 2016, 2016, 2008, 2016, 2016, 2013, 2011, 2009, 2015, 2011, 2013, 2013, 2014, 2012, 2011, 2014, 2016, 2013, 2016, 2014, 2015, 2013, 2012, 2012, 2009, 2016, 2014, 2006, 2011, 2008, 2011, 2015, 2008, 2012, 2007, 2009, 2016, 2016], \"y\": [7.7, 7.2, 8.1, 7.6, 7.3, 6.8, 6.4, 5.8, 7.4, 6.8, 7.2, 7.1, 4.0, 7.0, 6.2, 8.4, 7.7, 6.2, 5.1, 7.5, 7.7, 6.4, 6.5, 6.9, 6.1, 5.2, 6.1, 7.5, 7.2, 7.4, 6.8, 6.5, 7.8, 7.4, 6.2, 4.9, 8.1, 6.2, 6.2, 6.5, 4.7, 6.3, 5.7, 7.1, 7.8, 7.0, 7.3, 6.7, 7.3, 6.6, 5.4, 5.3, 7.3, 7.2, 6.6, 7.8, 7.7, 8.0, 5.9, 7.5, 6.6, 7.8, 7.4, 7.5, 7.5, 6.2, 5.9, 6.3, 6.7, 5.8, 6.2, 6.9, 7.4, 5.7, 6.2, 7.8, 6.3, 7.8, 3.9, 6.9, 8.0, 5.4, 5.1, 6.8, 6.5, 8.0, 6.4, 7.3, 7.4, 7.1, 7.1, 4.9, 7.9, 7.2, 5.5, 6.8, 7.6, 7.2, 6.7, 7.5, 6.6, 7.5, 6.7, 7.9, 6.9, 7.8, 7.9, 7.8, 7.2, 5.9, 7.1, 6.2, 8.0, 6.3, 6.4, 7.8, 6.9, 7.3, 6.5, 7.9, 7.0, 6.8, 7.0, 5.8, 6.2, 7.5, 7.0, 5.7, 7.2, 6.8, 5.7, 6.4, 6.6, 7.7, 5.5, 7.4, 7.6, 6.3, 6.6, 6.1, 8.0, 6.2, 7.6, 8.0, 6.2, 7.8, 6.4, 7.2, 7.0, 6.6, 7.7, 7.4, 6.2, 6.4, 6.6, 6.0, 1.9, 8.0, 6.7, 8.4, 7.6, 6.6, 7.2, 6.8, 7.3, 6.3, 2.7, 7.1, 7.8, 6.6, 7.7, 7.1, 7.4, 7.9, 8.2, 7.7, 7.1, 7.7, 6.3, 6.9, 6.6, 6.1, 6.7, 7.1, 7.0, 6.5, 7.7, 6.0, 7.3, 7.5, 4.3, 7.8, 6.6, 7.3, 6.5, 7.3, 4.1, 5.9, 7.4, 7.3, 6.9, 6.6, 5.7, 5.9, 7.2, 8.0, 7.2, 7.5, 7.0, 7.5, 5.6, 5.4, 6.6, 7.5, 7.1, 7.2, 7.6, 5.8, 5.8, 6.7, 6.0, 5.2, 5.3, 5.5, 6.4, 7.5, 6.7, 7.7, 8.1, 6.3, 7.8, 5.6, 7.0, 6.2, 6.0, 5.4, 8.1, 8.2, 6.3, 6.7, 6.2, 6.4, 6.6, 6.8, 6.5, 6.7, 7.7, 8.1, 7.5, 7.5, 7.7, 7.0, 6.7, 8.0, 6.0, 7.8, 5.7, 6.7, 6.5, 6.9, 6.3, 5.5, 7.9, 6.7, 6.1, 8.1, 7.9, 7.5, 7.6, 7.9, 7.2, 6.1, 7.3, 6.3, 5.7, 6.6, 6.8, 6.4, 6.0, 7.9, 6.7, 6.9, 8.2, 8.8, 5.3, 6.2, 6.9, 6.2, 8.3, 6.7, 7.6, 8.2, 6.8, 6.3, 8.6, 5.9, 8.1, 6.0, 7.9, 7.0, 7.2, 6.9, 7.0, 6.1, 6.2, 6.8, 8.3, 7.4, 6.7, 5.1, 6.6, 7.2, 6.6, 6.1, 7.5, 5.3, 7.0, 6.4, 6.3, 5.8, 7.7, 6.6, 4.9, 6.1, 8.6, 5.6, 7.7, 5.7, 4.9, 7.0, 7.9, 7.6, 7.2, 7.3, 7.1, 8.3, 7.8, 7.6, 7.8, 5.6, 7.4, 7.3, 7.0, 5.2, 7.6, 7.2, 6.5, 6.6, 7.9, 6.4, 7.4, 7.4, 8.1, 7.8, 7.2, 6.4, 7.1, 5.9, 7.5, 7.4, 6.5, 6.7, 7.2, 6.4, 7.1, 6.3, 7.8, 6.4, 7.8, 8.1, 6.1, 7.0, 6.2, 6.4, 7.1, 6.6, 7.9, 6.4, 5.8, 6.8, 4.6, 6.3, 7.4, 7.8, 5.6, 7.3, 7.1, 6.8, 6.7, 7.7, 6.0, 6.4, 7.0, 6.7, 7.3, 7.4, 7.4, 6.9, 7.7, 8.1, 6.5, 7.6, 5.7, 7.3, 7.9, 7.5, 7.8, 5.8, 5.6, 4.3, 7.3, 7.7, 6.3, 6.0, 7.8, 6.5, 6.4, 5.7, 6.6, 6.6, 6.2, 7.9, 5.3, 8.1, 6.8, 6.2, 5.8, 7.5, 7.1, 6.7, 7.3, 6.5, 7.0, 6.7, 7.0, 6.9, 6.5, 5.8, 6.5, 7.0, 7.0, 6.1, 6.8, 6.3, 8.2, 7.0, 6.5, 5.8, 8.2, 6.8, 6.3, 7.0, 7.5, 7.4, 7.0, 5.9, 5.9, 7.5, 6.3, 6.8, 7.0, 5.5, 7.1, 7.3, 6.7, 7.2, 6.5, 5.6, 5.3, 5.5, 6.7, 7.3, 6.4, 5.8, 6.6, 8.1, 6.7, 7.0, 7.0, 6.6, 7.4, 7.1, 7.1, 8.0, 7.5, 7.1, 5.4, 5.7, 8.1, 7.2, 7.3, 5.9, 5.4, 5.6, 7.3, 6.4, 6.9, 7.6, 6.7, 6.2, 5.8, 5.9, 7.3, 7.2, 7.9, 8.2, 8.1, 6.7, 6.4, 6.1, 6.3, 6.5, 7.5, 7.5, 6.3, 6.2, 6.5, 7.7, 7.2, 5.5, 5.1, 5.5, 4.3, 7.2, 6.4, 6.4, 7.6, 7.5, 6.9, 7.2, 8.1, 7.6, 7.3, 7.8, 6.5, 7.2, 8.0, 6.8, 6.0, 7.8, 6.5, 6.0, 6.5, 8.0, 5.6, 6.1, 7.3, 7.0, 7.5, 7.4, 6.8, 6.2, 7.3, 8.1, 5.3, 7.1, 6.5, 8.0, 7.1, 7.8, 8.1, 7.7, 6.9, 6.5, 6.2, 7.2, 6.9, 7.9, 6.1, 6.2, 7.5, 7.3, 6.8, 7.1, 7.6, 6.1, 7.4, 7.1, 8.5, 7.8, 6.0, 6.6, 7.8, 7.0, 6.3, 5.9, 6.0, 6.5, 6.6, 4.8, 6.2, 5.2, 6.8, 7.4, 7.2, 7.2, 7.0, 6.7, 7.5, 8.1, 6.4, 6.8, 5.7, 6.3, 6.7, 7.8, 5.6, 7.7, 6.9, 7.3, 5.4, 6.7, 8.1, 6.0, 4.6, 7.8, 5.8, 7.0, 6.6, 5.4, 7.5, 7.4, 5.3, 7.8, 6.5, 6.6, 7.0, 9.0, 8.5, 6.7, 8.5, 7.3, 6.8, 6.4, 3.9, 5.7, 7.1, 7.1, 7.4, 7.2, 6.5, 6.6, 6.1, 7.9, 6.3, 6.0, 7.8, 7.8, 6.8, 6.9, 7.2, 7.3, 6.0, 7.2, 7.1, 6.5, 7.8, 6.5, 6.1, 8.1, 7.3, 6.1, 5.4, 6.7, 5.8, 7.8, 5.0, 7.8, 5.8, 6.6, 8.1, 6.4, 7.9, 7.4, 7.9, 6.5, 7.0, 5.9, 5.5, 4.4, 7.2, 7.6, 6.7, 6.6, 6.1, 7.6, 7.6, 6.8, 8.1, 6.8, 7.1, 7.1, 6.3, 6.6, 8.6, 6.7, 7.4, 7.5, 6.2, 8.0, 7.2, 6.0, 6.3, 7.8, 7.2, 8.5, 7.1, 6.3, 7.1, 7.1, 6.2, 6.7, 6.5, 6.9, 7.3, 8.0, 6.8, 6.1, 7.2, 5.9, 5.2, 6.2, 7.4, 6.7, 6.7, 6.0, 8.0, 7.3, 8.5, 7.1, 6.7, 5.7, 8.0, 8.0, 5.1, 5.9, 6.6, 7.3, 6.4, 7.6, 7.7, 7.1, 6.9, 6.2, 7.7, 5.8, 7.6, 6.8, 4.9, 5.5, 4.9, 6.5, 6.8, 6.2, 5.8, 8.2, 6.7, 7.0, 7.6, 7.0, 8.1, 6.6, 6.3, 7.0, 7.0, 7.1, 6.3, 6.5, 7.6, 6.3, 8.3, 6.3, 7.0, 6.3, 7.1, 5.7, 6.3, 6.0, 6.3, 6.5, 6.8, 7.0, 7.6, 7.0, 6.7, 5.4, 5.2, 7.2, 6.3, 6.4, 5.8, 6.6, 5.6, 6.9, 6.8, 8.3, 6.1, 5.6, 7.1, 6.0, 4.7, 7.5, 6.7, 7.1, 7.0, 6.9, 8.2, 7.6, 6.2, 7.5, 7.0, 6.8, 7.6, 5.7, 6.1, 8.5, 5.8, 6.4, 6.3, 7.1, 7.3, 7.0, 5.8, 7.8, 6.7, 7.1, 8.0, 6.7, 7.8, 5.5, 5.6, 7.3, 6.6, 7.4, 7.7, 7.7, 4.7, 8.1]}],                        {\"legend\": {\"bgcolor\": \"#F5F6F9\", \"font\": {\"color\": \"#4D5663\"}}, \"paper_bgcolor\": \"#F5F6F9\", \"plot_bgcolor\": \"#F5F6F9\", \"template\": {\"data\": {\"bar\": [{\"error_x\": {\"color\": \"#2a3f5f\"}, \"error_y\": {\"color\": \"#2a3f5f\"}, \"marker\": {\"line\": {\"color\": \"#E5ECF6\", \"width\": 0.5}}, \"type\": \"bar\"}], \"barpolar\": [{\"marker\": {\"line\": {\"color\": \"#E5ECF6\", \"width\": 0.5}}, \"type\": \"barpolar\"}], \"carpet\": [{\"aaxis\": {\"endlinecolor\": \"#2a3f5f\", \"gridcolor\": \"white\", \"linecolor\": \"white\", \"minorgridcolor\": \"white\", \"startlinecolor\": \"#2a3f5f\"}, \"baxis\": {\"endlinecolor\": \"#2a3f5f\", \"gridcolor\": \"white\", \"linecolor\": \"white\", \"minorgridcolor\": \"white\", \"startlinecolor\": \"#2a3f5f\"}, \"type\": \"carpet\"}], \"choropleth\": [{\"colorbar\": {\"outlinewidth\": 0, \"ticks\": \"\"}, \"type\": \"choropleth\"}], \"contour\": [{\"colorbar\": {\"outlinewidth\": 0, \"ticks\": \"\"}, \"colorscale\": [[0.0, \"#0d0887\"], [0.1111111111111111, \"#46039f\"], [0.2222222222222222, \"#7201a8\"], [0.3333333333333333, \"#9c179e\"], [0.4444444444444444, \"#bd3786\"], [0.5555555555555556, \"#d8576b\"], [0.6666666666666666, \"#ed7953\"], [0.7777777777777778, \"#fb9f3a\"], [0.8888888888888888, \"#fdca26\"], [1.0, \"#f0f921\"]], \"type\": \"contour\"}], \"contourcarpet\": [{\"colorbar\": {\"outlinewidth\": 0, \"ticks\": \"\"}, \"type\": \"contourcarpet\"}], \"heatmap\": [{\"colorbar\": {\"outlinewidth\": 0, \"ticks\": \"\"}, \"colorscale\": [[0.0, \"#0d0887\"], [0.1111111111111111, \"#46039f\"], [0.2222222222222222, \"#7201a8\"], [0.3333333333333333, \"#9c179e\"], [0.4444444444444444, \"#bd3786\"], [0.5555555555555556, \"#d8576b\"], [0.6666666666666666, \"#ed7953\"], [0.7777777777777778, \"#fb9f3a\"], [0.8888888888888888, \"#fdca26\"], [1.0, \"#f0f921\"]], \"type\": \"heatmap\"}], \"heatmapgl\": [{\"colorbar\": {\"outlinewidth\": 0, \"ticks\": \"\"}, \"colorscale\": [[0.0, \"#0d0887\"], [0.1111111111111111, \"#46039f\"], [0.2222222222222222, \"#7201a8\"], [0.3333333333333333, \"#9c179e\"], [0.4444444444444444, \"#bd3786\"], [0.5555555555555556, \"#d8576b\"], [0.6666666666666666, \"#ed7953\"], [0.7777777777777778, \"#fb9f3a\"], [0.8888888888888888, \"#fdca26\"], [1.0, \"#f0f921\"]], \"type\": \"heatmapgl\"}], \"histogram\": [{\"marker\": {\"colorbar\": {\"outlinewidth\": 0, \"ticks\": \"\"}}, \"type\": \"histogram\"}], \"histogram2d\": [{\"colorbar\": {\"outlinewidth\": 0, \"ticks\": \"\"}, \"colorscale\": [[0.0, \"#0d0887\"], [0.1111111111111111, \"#46039f\"], [0.2222222222222222, \"#7201a8\"], [0.3333333333333333, \"#9c179e\"], [0.4444444444444444, \"#bd3786\"], [0.5555555555555556, \"#d8576b\"], [0.6666666666666666, \"#ed7953\"], [0.7777777777777778, \"#fb9f3a\"], [0.8888888888888888, \"#fdca26\"], [1.0, \"#f0f921\"]], \"type\": \"histogram2d\"}], \"histogram2dcontour\": [{\"colorbar\": {\"outlinewidth\": 0, \"ticks\": \"\"}, \"colorscale\": [[0.0, \"#0d0887\"], [0.1111111111111111, \"#46039f\"], [0.2222222222222222, \"#7201a8\"], [0.3333333333333333, \"#9c179e\"], [0.4444444444444444, \"#bd3786\"], [0.5555555555555556, \"#d8576b\"], [0.6666666666666666, \"#ed7953\"], [0.7777777777777778, \"#fb9f3a\"], [0.8888888888888888, \"#fdca26\"], [1.0, \"#f0f921\"]], \"type\": \"histogram2dcontour\"}], \"mesh3d\": [{\"colorbar\": {\"outlinewidth\": 0, \"ticks\": \"\"}, \"type\": \"mesh3d\"}], \"parcoords\": [{\"line\": {\"colorbar\": {\"outlinewidth\": 0, \"ticks\": \"\"}}, \"type\": \"parcoords\"}], \"pie\": [{\"automargin\": true, \"type\": \"pie\"}], \"scatter\": [{\"marker\": {\"colorbar\": {\"outlinewidth\": 0, \"ticks\": \"\"}}, \"type\": \"scatter\"}], \"scatter3d\": [{\"line\": {\"colorbar\": {\"outlinewidth\": 0, \"ticks\": \"\"}}, \"marker\": {\"colorbar\": {\"outlinewidth\": 0, \"ticks\": \"\"}}, \"type\": \"scatter3d\"}], \"scattercarpet\": [{\"marker\": {\"colorbar\": {\"outlinewidth\": 0, \"ticks\": \"\"}}, \"type\": \"scattercarpet\"}], \"scattergeo\": [{\"marker\": {\"colorbar\": {\"outlinewidth\": 0, \"ticks\": \"\"}}, \"type\": \"scattergeo\"}], \"scattergl\": [{\"marker\": {\"colorbar\": {\"outlinewidth\": 0, \"ticks\": \"\"}}, \"type\": \"scattergl\"}], \"scattermapbox\": [{\"marker\": {\"colorbar\": {\"outlinewidth\": 0, \"ticks\": \"\"}}, \"type\": \"scattermapbox\"}], \"scatterpolar\": [{\"marker\": {\"colorbar\": {\"outlinewidth\": 0, \"ticks\": \"\"}}, \"type\": \"scatterpolar\"}], \"scatterpolargl\": [{\"marker\": {\"colorbar\": {\"outlinewidth\": 0, \"ticks\": \"\"}}, \"type\": \"scatterpolargl\"}], \"scatterternary\": [{\"marker\": {\"colorbar\": {\"outlinewidth\": 0, \"ticks\": \"\"}}, \"type\": \"scatterternary\"}], \"surface\": [{\"colorbar\": {\"outlinewidth\": 0, \"ticks\": \"\"}, \"colorscale\": [[0.0, \"#0d0887\"], [0.1111111111111111, \"#46039f\"], [0.2222222222222222, \"#7201a8\"], [0.3333333333333333, \"#9c179e\"], [0.4444444444444444, \"#bd3786\"], [0.5555555555555556, \"#d8576b\"], [0.6666666666666666, \"#ed7953\"], [0.7777777777777778, \"#fb9f3a\"], [0.8888888888888888, \"#fdca26\"], [1.0, \"#f0f921\"]], \"type\": \"surface\"}], \"table\": [{\"cells\": {\"fill\": {\"color\": \"#EBF0F8\"}, \"line\": {\"color\": \"white\"}}, \"header\": {\"fill\": {\"color\": \"#C8D4E3\"}, \"line\": {\"color\": \"white\"}}, \"type\": \"table\"}]}, \"layout\": {\"annotationdefaults\": {\"arrowcolor\": \"#2a3f5f\", \"arrowhead\": 0, \"arrowwidth\": 1}, \"autotypenumbers\": \"strict\", \"coloraxis\": {\"colorbar\": {\"outlinewidth\": 0, \"ticks\": \"\"}}, \"colorscale\": {\"diverging\": [[0, \"#8e0152\"], [0.1, \"#c51b7d\"], [0.2, \"#de77ae\"], [0.3, \"#f1b6da\"], [0.4, \"#fde0ef\"], [0.5, \"#f7f7f7\"], [0.6, \"#e6f5d0\"], [0.7, \"#b8e186\"], [0.8, \"#7fbc41\"], [0.9, \"#4d9221\"], [1, \"#276419\"]], \"sequential\": [[0.0, \"#0d0887\"], [0.1111111111111111, \"#46039f\"], [0.2222222222222222, \"#7201a8\"], [0.3333333333333333, \"#9c179e\"], [0.4444444444444444, \"#bd3786\"], [0.5555555555555556, \"#d8576b\"], [0.6666666666666666, \"#ed7953\"], [0.7777777777777778, \"#fb9f3a\"], [0.8888888888888888, \"#fdca26\"], [1.0, \"#f0f921\"]], \"sequentialminus\": [[0.0, \"#0d0887\"], [0.1111111111111111, \"#46039f\"], [0.2222222222222222, \"#7201a8\"], [0.3333333333333333, \"#9c179e\"], [0.4444444444444444, \"#bd3786\"], [0.5555555555555556, \"#d8576b\"], [0.6666666666666666, \"#ed7953\"], [0.7777777777777778, \"#fb9f3a\"], [0.8888888888888888, \"#fdca26\"], [1.0, \"#f0f921\"]]}, \"colorway\": [\"#636efa\", \"#EF553B\", \"#00cc96\", \"#ab63fa\", \"#FFA15A\", \"#19d3f3\", \"#FF6692\", \"#B6E880\", \"#FF97FF\", \"#FECB52\"], \"font\": {\"color\": \"#2a3f5f\"}, \"geo\": {\"bgcolor\": \"white\", \"lakecolor\": \"white\", \"landcolor\": \"#E5ECF6\", \"showlakes\": true, \"showland\": true, \"subunitcolor\": \"white\"}, \"hoverlabel\": {\"align\": \"left\"}, \"hovermode\": \"closest\", \"mapbox\": {\"style\": \"light\"}, \"paper_bgcolor\": \"white\", \"plot_bgcolor\": \"#E5ECF6\", \"polar\": {\"angularaxis\": {\"gridcolor\": \"white\", \"linecolor\": \"white\", \"ticks\": \"\"}, \"bgcolor\": \"#E5ECF6\", \"radialaxis\": {\"gridcolor\": \"white\", \"linecolor\": \"white\", \"ticks\": \"\"}}, \"scene\": {\"xaxis\": {\"backgroundcolor\": \"#E5ECF6\", \"gridcolor\": \"white\", \"gridwidth\": 2, \"linecolor\": \"white\", \"showbackground\": true, \"ticks\": \"\", \"zerolinecolor\": \"white\"}, \"yaxis\": {\"backgroundcolor\": \"#E5ECF6\", \"gridcolor\": \"white\", \"gridwidth\": 2, \"linecolor\": \"white\", \"showbackground\": true, \"ticks\": \"\", \"zerolinecolor\": \"white\"}, \"zaxis\": {\"backgroundcolor\": \"#E5ECF6\", \"gridcolor\": \"white\", \"gridwidth\": 2, \"linecolor\": \"white\", \"showbackground\": true, \"ticks\": \"\", \"zerolinecolor\": \"white\"}}, \"shapedefaults\": {\"line\": {\"color\": \"#2a3f5f\"}}, \"ternary\": {\"aaxis\": {\"gridcolor\": \"white\", \"linecolor\": \"white\", \"ticks\": \"\"}, \"baxis\": {\"gridcolor\": \"white\", \"linecolor\": \"white\", \"ticks\": \"\"}, \"bgcolor\": \"#E5ECF6\", \"caxis\": {\"gridcolor\": \"white\", \"linecolor\": \"white\", \"ticks\": \"\"}}, \"title\": {\"x\": 0.05}, \"xaxis\": {\"automargin\": true, \"gridcolor\": \"white\", \"linecolor\": \"white\", \"ticks\": \"\", \"title\": {\"standoff\": 15}, \"zerolinecolor\": \"white\", \"zerolinewidth\": 2}, \"yaxis\": {\"automargin\": true, \"gridcolor\": \"white\", \"linecolor\": \"white\", \"ticks\": \"\", \"title\": {\"standoff\": 15}, \"zerolinecolor\": \"white\", \"zerolinewidth\": 2}}}, \"title\": {\"font\": {\"color\": \"#4D5663\"}, \"text\": \"La moyenne de note des film par an : \"}, \"xaxis\": {\"gridcolor\": \"#E1E5ED\", \"showgrid\": true, \"tickfont\": {\"color\": \"#4D5663\"}, \"title\": {\"font\": {\"color\": \"#4D5663\"}, \"text\": \"Ann\\u00e9e\"}, \"zerolinecolor\": \"#E1E5ED\"}, \"yaxis\": {\"gridcolor\": \"#E1E5ED\", \"showgrid\": true, \"tickfont\": {\"color\": \"#4D5663\"}, \"title\": {\"font\": {\"color\": \"#4D5663\"}, \"text\": \"Note\"}, \"zerolinecolor\": \"#E1E5ED\"}},                        {\"showLink\": true, \"linkText\": \"Export to plot.ly\", \"plotlyServerURL\": \"https://plot.ly\", \"responsive\": true}                    ).then(function(){\n",
       "                            \n",
       "var gd = document.getElementById('4f5b556e-2e2d-4f58-8eb1-99f45099c22b');\n",
       "var x = new MutationObserver(function (mutations, observer) {{\n",
       "        var display = window.getComputedStyle(gd).display;\n",
       "        if (!display || display === 'none') {{\n",
       "            console.log([gd, 'removed!']);\n",
       "            Plotly.purge(gd);\n",
       "            observer.disconnect();\n",
       "        }}\n",
       "}});\n",
       "\n",
       "// Listen for the removal of the full notebook cells\n",
       "var notebookContainer = gd.closest('#notebook-container');\n",
       "if (notebookContainer) {{\n",
       "    x.observe(notebookContainer, {childList: true});\n",
       "}}\n",
       "\n",
       "// Listen for the clearing of the current output cell\n",
       "var outputEl = gd.closest('.output');\n",
       "if (outputEl) {{\n",
       "    x.observe(outputEl, {childList: true});\n",
       "}}\n",
       "\n",
       "                        })                };                });            </script>        </div>"
      ]
     },
     "metadata": {},
     "output_type": "display_data"
    }
   ],
   "source": [
    "film_iplot = film.iplot(kind='scatter',x='Year',y='Rating',mode='markers',title='La moyenne de note des film par an : ',xTitle='Année',yTitle='Note',color=\"blue\",size=5)\n"
   ]
  },
  {
   "cell_type": "markdown",
   "id": "5fa6154d",
   "metadata": {},
   "source": [
    "## Q5. Déterminer les paramètres les plus impactants sur le score (colonne `rating`)."
   ]
  },
  {
   "cell_type": "code",
   "execution_count": 696,
   "id": "1407a394",
   "metadata": {},
   "outputs": [
    {
     "data": {
      "text/plain": [
       "Index(['Title', 'Genre', 'Description', 'Director', 'Actors', 'Year',\n",
       "       'Runtime (Minutes)', 'Rating', 'Votes', 'Revenue (Millions)',\n",
       "       'Metascore'],\n",
       "      dtype='object')"
      ]
     },
     "execution_count": 696,
     "metadata": {},
     "output_type": "execute_result"
    }
   ],
   "source": [
    "df.columns"
   ]
  },
  {
   "cell_type": "code",
   "execution_count": 697,
   "id": "34ac8877",
   "metadata": {},
   "outputs": [
    {
     "data": {
      "text/plain": [
       "Title                  object\n",
       "Genre                  object\n",
       "Description            object\n",
       "Director               object\n",
       "Actors                 object\n",
       "Year                    int64\n",
       "Runtime (Minutes)       int64\n",
       "Rating                float64\n",
       "Votes                   int64\n",
       "Revenue (Millions)    float64\n",
       "Metascore             float64\n",
       "dtype: object"
      ]
     },
     "execution_count": 697,
     "metadata": {},
     "output_type": "execute_result"
    }
   ],
   "source": [
    "df.dtypes"
   ]
  },
  {
   "cell_type": "markdown",
   "id": "7dfb4411",
   "metadata": {},
   "source": [
    "### La matrice de corrélation:"
   ]
  },
  {
   "cell_type": "code",
   "execution_count": 698,
   "id": "d9d65476",
   "metadata": {},
   "outputs": [],
   "source": [
    "import seaborn as sns \n",
    "import matplotlib.pyplot as plt \n",
    "from sklearn.preprocessing import LabelEncoder "
   ]
  },
  {
   "cell_type": "code",
   "execution_count": 715,
   "id": "d01fb236",
   "metadata": {},
   "outputs": [
    {
     "name": "stdout",
     "output_type": "stream",
     "text": [
      "The correlation DataFrame is:\n"
     ]
    },
    {
     "data": {
      "image/png": "[encoded data removed]",
      "text/plain": [
       "<Figure size 576x432 with 2 Axes>"
      ]
     },
     "metadata": {},
     "output_type": "display_data"
    }
   ],
   "source": [
    "corr_df = df.corr(method='pearson')\n",
    "print(\"The correlation DataFrame is:\")\n",
    "# print(corr_df, \"\\n\")\n",
    "plt.figure(figsize=(8, 6))\n",
    "sns.heatmap(corr_df, annot=True)\n",
    "plt.show()\n",
    "\n"
   ]
  },
  {
   "cell_type": "code",
   "execution_count": 716,
   "id": "2896554e",
   "metadata": {},
   "outputs": [
    {
     "data": {
      "text/html": [
       "<style type=\"text/css\">\n",
       "#T_4e39e_row0_col0, #T_4e39e_row1_col1, #T_4e39e_row2_col2, #T_4e39e_row3_col3, #T_4e39e_row4_col4, #T_4e39e_row5_col5 {\n",
       "  background-color: #b40426;\n",
       "  color: #f1f1f1;\n",
       "}\n",
       "#T_4e39e_row0_col1, #T_4e39e_row0_col2, #T_4e39e_row0_col3, #T_4e39e_row0_col4, #T_4e39e_row0_col5, #T_4e39e_row3_col0 {\n",
       "  background-color: #3b4cc0;\n",
       "  color: #f1f1f1;\n",
       "}\n",
       "#T_4e39e_row1_col0 {\n",
       "  background-color: #779af7;\n",
       "  color: #f1f1f1;\n",
       "}\n",
       "#T_4e39e_row1_col2, #T_4e39e_row3_col1 {\n",
       "  background-color: #d1dae9;\n",
       "  color: #000000;\n",
       "}\n",
       "#T_4e39e_row1_col3 {\n",
       "  background-color: #ebd3c6;\n",
       "  color: #000000;\n",
       "}\n",
       "#T_4e39e_row1_col4 {\n",
       "  background-color: #b5cdfa;\n",
       "  color: #000000;\n",
       "}\n",
       "#T_4e39e_row1_col5 {\n",
       "  background-color: #93b5fe;\n",
       "  color: #000000;\n",
       "}\n",
       "#T_4e39e_row2_col0 {\n",
       "  background-color: #6c8ff1;\n",
       "  color: #f1f1f1;\n",
       "}\n",
       "#T_4e39e_row2_col1 {\n",
       "  background-color: #cad8ef;\n",
       "  color: #000000;\n",
       "}\n",
       "#T_4e39e_row2_col3 {\n",
       "  background-color: #f6bea4;\n",
       "  color: #000000;\n",
       "}\n",
       "#T_4e39e_row2_col4 {\n",
       "  background-color: #a1c0ff;\n",
       "  color: #000000;\n",
       "}\n",
       "#T_4e39e_row2_col5 {\n",
       "  background-color: #f7af91;\n",
       "  color: #000000;\n",
       "}\n",
       "#T_4e39e_row3_col2 {\n",
       "  background-color: #efcfbf;\n",
       "  color: #000000;\n",
       "}\n",
       "#T_4e39e_row3_col4 {\n",
       "  background-color: #f7b497;\n",
       "  color: #000000;\n",
       "}\n",
       "#T_4e39e_row3_col5 {\n",
       "  background-color: #b7cff9;\n",
       "  color: #000000;\n",
       "}\n",
       "#T_4e39e_row4_col0 {\n",
       "  background-color: #7093f3;\n",
       "  color: #f1f1f1;\n",
       "}\n",
       "#T_4e39e_row4_col1 {\n",
       "  background-color: #afcafc;\n",
       "  color: #000000;\n",
       "}\n",
       "#T_4e39e_row4_col2 {\n",
       "  background-color: #a5c3fe;\n",
       "  color: #000000;\n",
       "}\n",
       "#T_4e39e_row4_col3 {\n",
       "  background-color: #f5a081;\n",
       "  color: #000000;\n",
       "}\n",
       "#T_4e39e_row4_col5 {\n",
       "  background-color: #799cf8;\n",
       "  color: #f1f1f1;\n",
       "}\n",
       "#T_4e39e_row5_col0 {\n",
       "  background-color: #82a6fb;\n",
       "  color: #f1f1f1;\n",
       "}\n",
       "#T_4e39e_row5_col1 {\n",
       "  background-color: #9dbdff;\n",
       "  color: #000000;\n",
       "}\n",
       "#T_4e39e_row5_col2 {\n",
       "  background-color: #f7a889;\n",
       "  color: #000000;\n",
       "}\n",
       "#T_4e39e_row5_col3 {\n",
       "  background-color: #dfdbd9;\n",
       "  color: #000000;\n",
       "}\n",
       "#T_4e39e_row5_col4 {\n",
       "  background-color: #89acfd;\n",
       "  color: #000000;\n",
       "}\n",
       "</style>\n",
       "<table id=\"T_4e39e_\">\n",
       "  <thead>\n",
       "    <tr>\n",
       "      <th class=\"blank level0\" >&nbsp;</th>\n",
       "      <th class=\"col_heading level0 col0\" >Year</th>\n",
       "      <th class=\"col_heading level0 col1\" >Runtime (Minutes)</th>\n",
       "      <th class=\"col_heading level0 col2\" >Rating</th>\n",
       "      <th class=\"col_heading level0 col3\" >Votes</th>\n",
       "      <th class=\"col_heading level0 col4\" >Revenue (Millions)</th>\n",
       "      <th class=\"col_heading level0 col5\" >Metascore</th>\n",
       "    </tr>\n",
       "  </thead>\n",
       "  <tbody>\n",
       "    <tr>\n",
       "      <th id=\"T_4e39e_level0_row0\" class=\"row_heading level0 row0\" >Year</th>\n",
       "      <td id=\"T_4e39e_row0_col0\" class=\"data row0 col0\" >1.000000</td>\n",
       "      <td id=\"T_4e39e_row0_col1\" class=\"data row0 col1\" >-0.101933</td>\n",
       "      <td id=\"T_4e39e_row0_col2\" class=\"data row0 col2\" >-0.145703</td>\n",
       "      <td id=\"T_4e39e_row0_col3\" class=\"data row0 col3\" >-0.362445</td>\n",
       "      <td id=\"T_4e39e_row0_col4\" class=\"data row0 col4\" >-0.129198</td>\n",
       "      <td id=\"T_4e39e_row0_col5\" class=\"data row0 col5\" >-0.062303</td>\n",
       "    </tr>\n",
       "    <tr>\n",
       "      <th id=\"T_4e39e_level0_row1\" class=\"row_heading level0 row1\" >Runtime (Minutes)</th>\n",
       "      <td id=\"T_4e39e_row1_col0\" class=\"data row1 col0\" >-0.101933</td>\n",
       "      <td id=\"T_4e39e_row1_col1\" class=\"data row1 col1\" >1.000000</td>\n",
       "      <td id=\"T_4e39e_row1_col2\" class=\"data row1 col2\" >0.374566</td>\n",
       "      <td id=\"T_4e39e_row1_col3\" class=\"data row1 col3\" >0.399298</td>\n",
       "      <td id=\"T_4e39e_row1_col4\" class=\"data row1 col4\" >0.281721</td>\n",
       "      <td id=\"T_4e39e_row1_col5\" class=\"data row1 col5\" >0.221397</td>\n",
       "    </tr>\n",
       "    <tr>\n",
       "      <th id=\"T_4e39e_level0_row2\" class=\"row_heading level0 row2\" >Rating</th>\n",
       "      <td id=\"T_4e39e_row2_col0\" class=\"data row2 col0\" >-0.145703</td>\n",
       "      <td id=\"T_4e39e_row2_col1\" class=\"data row2 col1\" >0.374566</td>\n",
       "      <td id=\"T_4e39e_row2_col2\" class=\"data row2 col2\" >1.000000</td>\n",
       "      <td id=\"T_4e39e_row2_col3\" class=\"data row2 col3\" >0.517452</td>\n",
       "      <td id=\"T_4e39e_row2_col4\" class=\"data row2 col4\" >0.217106</td>\n",
       "      <td id=\"T_4e39e_row2_col5\" class=\"data row2 col5\" >0.672731</td>\n",
       "    </tr>\n",
       "    <tr>\n",
       "      <th id=\"T_4e39e_level0_row3\" class=\"row_heading level0 row3\" >Votes</th>\n",
       "      <td id=\"T_4e39e_row3_col0\" class=\"data row3 col0\" >-0.362445</td>\n",
       "      <td id=\"T_4e39e_row3_col1\" class=\"data row3 col1\" >0.399298</td>\n",
       "      <td id=\"T_4e39e_row3_col2\" class=\"data row3 col2\" >0.517452</td>\n",
       "      <td id=\"T_4e39e_row3_col3\" class=\"data row3 col3\" >1.000000</td>\n",
       "      <td id=\"T_4e39e_row3_col4\" class=\"data row3 col4\" >0.636833</td>\n",
       "      <td id=\"T_4e39e_row3_col5\" class=\"data row3 col5\" >0.332674</td>\n",
       "    </tr>\n",
       "    <tr>\n",
       "      <th id=\"T_4e39e_level0_row4\" class=\"row_heading level0 row4\" >Revenue (Millions)</th>\n",
       "      <td id=\"T_4e39e_row4_col0\" class=\"data row4 col0\" >-0.129198</td>\n",
       "      <td id=\"T_4e39e_row4_col1\" class=\"data row4 col1\" >0.281721</td>\n",
       "      <td id=\"T_4e39e_row4_col2\" class=\"data row4 col2\" >0.217106</td>\n",
       "      <td id=\"T_4e39e_row4_col3\" class=\"data row4 col3\" >0.636833</td>\n",
       "      <td id=\"T_4e39e_row4_col4\" class=\"data row4 col4\" >1.000000</td>\n",
       "      <td id=\"T_4e39e_row4_col5\" class=\"data row4 col5\" >0.142397</td>\n",
       "    </tr>\n",
       "    <tr>\n",
       "      <th id=\"T_4e39e_level0_row5\" class=\"row_heading level0 row5\" >Metascore</th>\n",
       "      <td id=\"T_4e39e_row5_col0\" class=\"data row5 col0\" >-0.062303</td>\n",
       "      <td id=\"T_4e39e_row5_col1\" class=\"data row5 col1\" >0.221397</td>\n",
       "      <td id=\"T_4e39e_row5_col2\" class=\"data row5 col2\" >0.672731</td>\n",
       "      <td id=\"T_4e39e_row5_col3\" class=\"data row5 col3\" >0.332674</td>\n",
       "      <td id=\"T_4e39e_row5_col4\" class=\"data row5 col4\" >0.142397</td>\n",
       "      <td id=\"T_4e39e_row5_col5\" class=\"data row5 col5\" >1.000000</td>\n",
       "    </tr>\n",
       "  </tbody>\n",
       "</table>\n"
      ],
      "text/plain": [
       "<pandas.io.formats.style.Styler at 0x1cf075d1af0>"
      ]
     },
     "execution_count": 716,
     "metadata": {},
     "output_type": "execute_result"
    }
   ],
   "source": [
    "corr_df.style.background_gradient(cmap='coolwarm')"
   ]
  },
  {
   "cell_type": "markdown",
   "id": "49fd7aad",
   "metadata": {},
   "source": [
    "\n",
    "<div class=\"alert alert-success\">\n",
    "  <p><strong>A partir de la matrice corréler on deduit que les paramétres les plus impactant sont le Metascore en premier à 0.67 et les votes en deuxiéme à 0.51.   </strong></p>\n",
    "</div"
   ]
  },
  {
   "cell_type": "code",
   "execution_count": 700,
   "id": "d65e8fec",
   "metadata": {},
   "outputs": [
    {
     "data": {
      "text/plain": [
       "Index(['Title', 'Genre', 'Description', 'Director', 'Actors', 'Year',\n",
       "       'Runtime (Minutes)', 'Rating', 'Votes', 'Revenue (Millions)',\n",
       "       'Metascore'],\n",
       "      dtype='object')"
      ]
     },
     "execution_count": 700,
     "metadata": {},
     "output_type": "execute_result"
    }
   ],
   "source": [
    "df.columns"
   ]
  },
  {
   "cell_type": "code",
   "execution_count": 701,
   "id": "ef825ce8",
   "metadata": {},
   "outputs": [
    {
     "data": {
      "image/png": "[encoded data removed]",
      "text/plain": [
       "<Figure size 720x720 with 1 Axes>"
      ]
     },
     "metadata": {},
     "output_type": "display_data"
    }
   ],
   "source": [
    "#l'impacte du metascore sur le score\n",
    "sns.set_style(\"darkgrid\")\n",
    "sns.lmplot(data= df, y = \"Metascore\", x = \"Rating\", height = 10)\n",
    "plt.title(\"Rate vs Metascore\", fontsize = 13)\n",
    "plt.show()"
   ]
  },
  {
   "cell_type": "code",
   "execution_count": 702,
   "id": "0bbe90c9",
   "metadata": {},
   "outputs": [
    {
     "data": {
      "image/png": "[encoded data removed]",
      "text/plain": [
       "<Figure size 720x720 with 1 Axes>"
      ]
     },
     "metadata": {},
     "output_type": "display_data"
    }
   ],
   "source": [
    "#l'impacte des votes sur le score\n",
    "sns.set_style(\"darkgrid\")\n",
    "sns.lmplot(data= df, y = \"Votes\", x = \"Rating\", height = 10)\n",
    "plt.title(\"Rate vs Votes\", fontsize = 13)\n",
    "plt.show()"
   ]
  },
  {
   "cell_type": "code",
   "execution_count": 703,
   "id": "af96c1ea",
   "metadata": {},
   "outputs": [
    {
     "data": {
      "image/png": "[encoded data removed]",
      "text/plain": [
       "<Figure size 720x720 with 1 Axes>"
      ]
     },
     "metadata": {},
     "output_type": "display_data"
    }
   ],
   "source": [
    "#l'impacte de la durée de film sur le score\n",
    "sns.set_style(\"darkgrid\")\n",
    "sns.lmplot(data= df, y = \"Runtime (Minutes)\", x = \"Rating\", height = 10)\n",
    "plt.title(\"Rate vs Runtime\", fontsize = 13)\n",
    "plt.show()"
   ]
  },
  {
   "cell_type": "code",
   "execution_count": 704,
   "id": "ad6f52fe",
   "metadata": {},
   "outputs": [
    {
     "data": {
      "image/png": "[encoded data removed]",
      "text/plain": [
       "<Figure size 720x720 with 1 Axes>"
      ]
     },
     "metadata": {},
     "output_type": "display_data"
    }
   ],
   "source": [
    "#l'impacte du Revenue sur le score\n",
    "sns.set_style(\"darkgrid\")\n",
    "sns.lmplot(data= df, y = \"Revenue (Millions)\", x = \"Rating\", height = 10)\n",
    "plt.title(\"Rate vs Revenue\", fontsize = 13)\n",
    "plt.show()"
   ]
  },
  {
   "cell_type": "markdown",
   "id": "5aed3a62",
   "metadata": {},
   "source": [
    "## Q3. Création d'une nouvelle colonne incluant les revenus en dollars constant à l'aide des données d'inflation de l'OCDE."
   ]
  },
  {
   "cell_type": "code",
   "execution_count": 705,
   "id": "2a3f68ce",
   "metadata": {},
   "outputs": [
    {
     "data": {
      "text/html": [
       "<div>\n",
       "<style scoped>\n",
       "    .dataframe tbody tr th:only-of-type {\n",
       "        vertical-align: middle;\n",
       "    }\n",
       "\n",
       "    .dataframe tbody tr th {\n",
       "        vertical-align: top;\n",
       "    }\n",
       "\n",
       "    .dataframe thead th {\n",
       "        text-align: right;\n",
       "    }\n",
       "</style>\n",
       "<table border=\"1\" class=\"dataframe\">\n",
       "  <thead>\n",
       "    <tr style=\"text-align: right;\">\n",
       "      <th></th>\n",
       "      <th>LOCATION</th>\n",
       "      <th>INDICATOR</th>\n",
       "      <th>SUBJECT</th>\n",
       "      <th>MEASURE</th>\n",
       "      <th>FREQUENCY</th>\n",
       "      <th>TIME</th>\n",
       "      <th>Value</th>\n",
       "      <th>Flag Codes</th>\n",
       "    </tr>\n",
       "  </thead>\n",
       "  <tbody>\n",
       "    <tr>\n",
       "      <th>0</th>\n",
       "      <td>AUS</td>\n",
       "      <td>CPI</td>\n",
       "      <td>TOT</td>\n",
       "      <td>IDX2015</td>\n",
       "      <td>A</td>\n",
       "      <td>1949</td>\n",
       "      <td>3.738101</td>\n",
       "      <td>NaN</td>\n",
       "    </tr>\n",
       "    <tr>\n",
       "      <th>1</th>\n",
       "      <td>AUS</td>\n",
       "      <td>CPI</td>\n",
       "      <td>TOT</td>\n",
       "      <td>IDX2015</td>\n",
       "      <td>A</td>\n",
       "      <td>1950</td>\n",
       "      <td>4.063153</td>\n",
       "      <td>NaN</td>\n",
       "    </tr>\n",
       "    <tr>\n",
       "      <th>2</th>\n",
       "      <td>AUS</td>\n",
       "      <td>CPI</td>\n",
       "      <td>TOT</td>\n",
       "      <td>IDX2015</td>\n",
       "      <td>A</td>\n",
       "      <td>1951</td>\n",
       "      <td>4.852566</td>\n",
       "      <td>NaN</td>\n",
       "    </tr>\n",
       "    <tr>\n",
       "      <th>3</th>\n",
       "      <td>AUS</td>\n",
       "      <td>CPI</td>\n",
       "      <td>TOT</td>\n",
       "      <td>IDX2015</td>\n",
       "      <td>A</td>\n",
       "      <td>1952</td>\n",
       "      <td>5.688414</td>\n",
       "      <td>NaN</td>\n",
       "    </tr>\n",
       "    <tr>\n",
       "      <th>4</th>\n",
       "      <td>AUS</td>\n",
       "      <td>CPI</td>\n",
       "      <td>TOT</td>\n",
       "      <td>IDX2015</td>\n",
       "      <td>A</td>\n",
       "      <td>1953</td>\n",
       "      <td>5.943812</td>\n",
       "      <td>NaN</td>\n",
       "    </tr>\n",
       "  </tbody>\n",
       "</table>\n",
       "</div>"
      ],
      "text/plain": [
       "  LOCATION INDICATOR SUBJECT  MEASURE FREQUENCY  TIME     Value Flag Codes\n",
       "0      AUS       CPI     TOT  IDX2015         A  1949  3.738101        NaN\n",
       "1      AUS       CPI     TOT  IDX2015         A  1950  4.063153        NaN\n",
       "2      AUS       CPI     TOT  IDX2015         A  1951  4.852566        NaN\n",
       "3      AUS       CPI     TOT  IDX2015         A  1952  5.688414        NaN\n",
       "4      AUS       CPI     TOT  IDX2015         A  1953  5.943812        NaN"
      ]
     },
     "execution_count": 705,
     "metadata": {},
     "output_type": "execute_result"
    }
   ],
   "source": [
    "inf = pd.read_csv(r\"./DF_OCDE.csv\")#importation de données\n",
    "inf.head()"
   ]
  },
  {
   "cell_type": "code",
   "execution_count": 706,
   "id": "a55fbd8a",
   "metadata": {},
   "outputs": [
    {
     "data": {
      "text/plain": [
       "LOCATION      0.000000\n",
       "INDICATOR     0.000000\n",
       "SUBJECT       0.000000\n",
       "MEASURE       0.000000\n",
       "FREQUENCY     0.000000\n",
       "TIME          0.000000\n",
       "Value         0.000000\n",
       "Flag Codes    0.999557\n",
       "dtype: float64"
      ]
     },
     "execution_count": 706,
     "metadata": {},
     "output_type": "execute_result"
    }
   ],
   "source": [
    "inf.isnull().mean()"
   ]
  },
  {
   "cell_type": "code",
   "execution_count": 707,
   "id": "ab7d18a1",
   "metadata": {},
   "outputs": [
    {
     "data": {
      "text/plain": [
       "(2255, 8)"
      ]
     },
     "execution_count": 707,
     "metadata": {},
     "output_type": "execute_result"
    }
   ],
   "source": [
    "inf.shape"
   ]
  },
  {
   "cell_type": "code",
   "execution_count": 708,
   "id": "102705c1",
   "metadata": {},
   "outputs": [],
   "source": [
    "inf = inf.drop('Flag Codes', axis='columns')#supression la colonne flag codes\n"
   ]
  },
  {
   "cell_type": "code",
   "execution_count": 709,
   "id": "eaf5ae19",
   "metadata": {},
   "outputs": [
    {
     "data": {
      "text/plain": [
       "LOCATION     0.0\n",
       "INDICATOR    0.0\n",
       "SUBJECT      0.0\n",
       "MEASURE      0.0\n",
       "FREQUENCY    0.0\n",
       "TIME         0.0\n",
       "Value        0.0\n",
       "dtype: float64"
      ]
     },
     "execution_count": 709,
     "metadata": {},
     "output_type": "execute_result"
    }
   ],
   "source": [
    "inf.isnull().mean()"
   ]
  },
  {
   "cell_type": "code",
   "execution_count": 710,
   "id": "11d3f393",
   "metadata": {},
   "outputs": [
    {
     "data": {
      "text/plain": [
       "(2255, 7)"
      ]
     },
     "execution_count": 710,
     "metadata": {},
     "output_type": "execute_result"
    }
   ],
   "source": [
    "inf.shape"
   ]
  },
  {
   "cell_type": "code",
   "execution_count": 711,
   "id": "463e2a63",
   "metadata": {},
   "outputs": [
    {
     "data": {
      "text/html": [
       "<div>\n",
       "<style scoped>\n",
       "    .dataframe tbody tr th:only-of-type {\n",
       "        vertical-align: middle;\n",
       "    }\n",
       "\n",
       "    .dataframe tbody tr th {\n",
       "        vertical-align: top;\n",
       "    }\n",
       "\n",
       "    .dataframe thead th {\n",
       "        text-align: right;\n",
       "    }\n",
       "</style>\n",
       "<table border=\"1\" class=\"dataframe\">\n",
       "  <thead>\n",
       "    <tr style=\"text-align: right;\">\n",
       "      <th></th>\n",
       "      <th>LOCATION</th>\n",
       "      <th>INDICATOR</th>\n",
       "      <th>SUBJECT</th>\n",
       "      <th>MEASURE</th>\n",
       "      <th>FREQUENCY</th>\n",
       "      <th>Year</th>\n",
       "      <th>Value</th>\n",
       "    </tr>\n",
       "  </thead>\n",
       "  <tbody>\n",
       "    <tr>\n",
       "      <th>1816</th>\n",
       "      <td>USA</td>\n",
       "      <td>CPI</td>\n",
       "      <td>TOT</td>\n",
       "      <td>IDX2015</td>\n",
       "      <td>A</td>\n",
       "      <td>1955</td>\n",
       "      <td>11.29666</td>\n",
       "    </tr>\n",
       "    <tr>\n",
       "      <th>1817</th>\n",
       "      <td>USA</td>\n",
       "      <td>CPI</td>\n",
       "      <td>TOT</td>\n",
       "      <td>IDX2015</td>\n",
       "      <td>A</td>\n",
       "      <td>1956</td>\n",
       "      <td>11.46894</td>\n",
       "    </tr>\n",
       "    <tr>\n",
       "      <th>1818</th>\n",
       "      <td>USA</td>\n",
       "      <td>CPI</td>\n",
       "      <td>TOT</td>\n",
       "      <td>IDX2015</td>\n",
       "      <td>A</td>\n",
       "      <td>1957</td>\n",
       "      <td>11.85217</td>\n",
       "    </tr>\n",
       "    <tr>\n",
       "      <th>1819</th>\n",
       "      <td>USA</td>\n",
       "      <td>CPI</td>\n",
       "      <td>TOT</td>\n",
       "      <td>IDX2015</td>\n",
       "      <td>A</td>\n",
       "      <td>1958</td>\n",
       "      <td>12.17564</td>\n",
       "    </tr>\n",
       "    <tr>\n",
       "      <th>1820</th>\n",
       "      <td>USA</td>\n",
       "      <td>CPI</td>\n",
       "      <td>TOT</td>\n",
       "      <td>IDX2015</td>\n",
       "      <td>A</td>\n",
       "      <td>1959</td>\n",
       "      <td>12.29870</td>\n",
       "    </tr>\n",
       "  </tbody>\n",
       "</table>\n",
       "</div>"
      ],
      "text/plain": [
       "     LOCATION INDICATOR SUBJECT  MEASURE FREQUENCY  Year     Value\n",
       "1816      USA       CPI     TOT  IDX2015         A  1955  11.29666\n",
       "1817      USA       CPI     TOT  IDX2015         A  1956  11.46894\n",
       "1818      USA       CPI     TOT  IDX2015         A  1957  11.85217\n",
       "1819      USA       CPI     TOT  IDX2015         A  1958  12.17564\n",
       "1820      USA       CPI     TOT  IDX2015         A  1959  12.29870"
      ]
     },
     "execution_count": 711,
     "metadata": {},
     "output_type": "execute_result"
    }
   ],
   "source": [
    "NewInf = inf[inf[\"LOCATION\"] == \"USA\"]#prendre les valeurs de la USA puisque les revenues sont en dollard \n",
    "NewInf = NewInf.rename(columns={'TIME': 'Year'})#renomer la colonne pour la preparer au merge\n",
    "NewInf.head()"
   ]
  },
  {
   "cell_type": "code",
   "execution_count": 712,
   "id": "6473f11e",
   "metadata": {},
   "outputs": [],
   "source": [
    "newData = df"
   ]
  },
  {
   "cell_type": "code",
   "execution_count": 713,
   "id": "22e06d1b",
   "metadata": {},
   "outputs": [
    {
     "data": {
      "text/html": [
       "<div>\n",
       "<style scoped>\n",
       "    .dataframe tbody tr th:only-of-type {\n",
       "        vertical-align: middle;\n",
       "    }\n",
       "\n",
       "    .dataframe tbody tr th {\n",
       "        vertical-align: top;\n",
       "    }\n",
       "\n",
       "    .dataframe thead th {\n",
       "        text-align: right;\n",
       "    }\n",
       "</style>\n",
       "<table border=\"1\" class=\"dataframe\">\n",
       "  <thead>\n",
       "    <tr style=\"text-align: right;\">\n",
       "      <th></th>\n",
       "      <th>Title</th>\n",
       "      <th>Genre</th>\n",
       "      <th>Description</th>\n",
       "      <th>Director</th>\n",
       "      <th>Actors</th>\n",
       "      <th>Year</th>\n",
       "      <th>Runtime (Minutes)</th>\n",
       "      <th>Rating</th>\n",
       "      <th>Votes</th>\n",
       "      <th>Revenue (Millions)</th>\n",
       "      <th>Metascore</th>\n",
       "      <th>Value</th>\n",
       "    </tr>\n",
       "  </thead>\n",
       "  <tbody>\n",
       "    <tr>\n",
       "      <th>0</th>\n",
       "      <td>Guardians of the Galaxy</td>\n",
       "      <td>Action,Adventure,Sci-Fi</td>\n",
       "      <td>A group of intergalactic criminals are forced ...</td>\n",
       "      <td>James Gunn</td>\n",
       "      <td>Chris Pratt, Vin Diesel, Bradley Cooper, Zoe S...</td>\n",
       "      <td>2014</td>\n",
       "      <td>121</td>\n",
       "      <td>8.1</td>\n",
       "      <td>757074</td>\n",
       "      <td>333.13</td>\n",
       "      <td>76.0</td>\n",
       "      <td>99.88152</td>\n",
       "    </tr>\n",
       "    <tr>\n",
       "      <th>1</th>\n",
       "      <td>Interstellar</td>\n",
       "      <td>Adventure,Drama,Sci-Fi</td>\n",
       "      <td>A team of explorers travel through a wormhole ...</td>\n",
       "      <td>Christopher Nolan</td>\n",
       "      <td>Matthew McConaughey, Anne Hathaway, Jessica Ch...</td>\n",
       "      <td>2014</td>\n",
       "      <td>169</td>\n",
       "      <td>8.6</td>\n",
       "      <td>1047747</td>\n",
       "      <td>187.99</td>\n",
       "      <td>74.0</td>\n",
       "      <td>99.88152</td>\n",
       "    </tr>\n",
       "    <tr>\n",
       "      <th>2</th>\n",
       "      <td>John Wick</td>\n",
       "      <td>Action,Crime,Thriller</td>\n",
       "      <td>An ex-hitman comes out of retirement to track ...</td>\n",
       "      <td>Chad Stahelski</td>\n",
       "      <td>Keanu Reeves, Michael Nyqvist, Alfie Allen, Wi...</td>\n",
       "      <td>2014</td>\n",
       "      <td>101</td>\n",
       "      <td>7.2</td>\n",
       "      <td>321933</td>\n",
       "      <td>43.00</td>\n",
       "      <td>68.0</td>\n",
       "      <td>99.88152</td>\n",
       "    </tr>\n",
       "    <tr>\n",
       "      <th>3</th>\n",
       "      <td>Kingsman: The Secret Service</td>\n",
       "      <td>Action,Adventure,Comedy</td>\n",
       "      <td>A spy organization recruits an unrefined, but ...</td>\n",
       "      <td>Matthew Vaughn</td>\n",
       "      <td>Colin Firth, Taron Egerton, Samuel L. Jackson,...</td>\n",
       "      <td>2014</td>\n",
       "      <td>129</td>\n",
       "      <td>7.7</td>\n",
       "      <td>440209</td>\n",
       "      <td>128.25</td>\n",
       "      <td>58.0</td>\n",
       "      <td>99.88152</td>\n",
       "    </tr>\n",
       "    <tr>\n",
       "      <th>4</th>\n",
       "      <td>Gone Girl</td>\n",
       "      <td>Crime,Drama,Mystery</td>\n",
       "      <td>With his wife's disappearance having become th...</td>\n",
       "      <td>David Fincher</td>\n",
       "      <td>Ben Affleck, Rosamund Pike, Neil Patrick Harri...</td>\n",
       "      <td>2014</td>\n",
       "      <td>149</td>\n",
       "      <td>8.1</td>\n",
       "      <td>636243</td>\n",
       "      <td>167.74</td>\n",
       "      <td>79.0</td>\n",
       "      <td>99.88152</td>\n",
       "    </tr>\n",
       "  </tbody>\n",
       "</table>\n",
       "</div>"
      ],
      "text/plain": [
       "                          Title                    Genre  \\\n",
       "0       Guardians of the Galaxy  Action,Adventure,Sci-Fi   \n",
       "1                  Interstellar   Adventure,Drama,Sci-Fi   \n",
       "2                     John Wick    Action,Crime,Thriller   \n",
       "3  Kingsman: The Secret Service  Action,Adventure,Comedy   \n",
       "4                     Gone Girl      Crime,Drama,Mystery   \n",
       "\n",
       "                                         Description           Director  \\\n",
       "0  A group of intergalactic criminals are forced ...         James Gunn   \n",
       "1  A team of explorers travel through a wormhole ...  Christopher Nolan   \n",
       "2  An ex-hitman comes out of retirement to track ...     Chad Stahelski   \n",
       "3  A spy organization recruits an unrefined, but ...     Matthew Vaughn   \n",
       "4  With his wife's disappearance having become th...      David Fincher   \n",
       "\n",
       "                                              Actors  Year  Runtime (Minutes)  \\\n",
       "0  Chris Pratt, Vin Diesel, Bradley Cooper, Zoe S...  2014                121   \n",
       "1  Matthew McConaughey, Anne Hathaway, Jessica Ch...  2014                169   \n",
       "2  Keanu Reeves, Michael Nyqvist, Alfie Allen, Wi...  2014                101   \n",
       "3  Colin Firth, Taron Egerton, Samuel L. Jackson,...  2014                129   \n",
       "4  Ben Affleck, Rosamund Pike, Neil Patrick Harri...  2014                149   \n",
       "\n",
       "   Rating    Votes  Revenue (Millions)  Metascore     Value  \n",
       "0     8.1   757074              333.13       76.0  99.88152  \n",
       "1     8.6  1047747              187.99       74.0  99.88152  \n",
       "2     7.2   321933               43.00       68.0  99.88152  \n",
       "3     7.7   440209              128.25       58.0  99.88152  \n",
       "4     8.1   636243              167.74       79.0  99.88152  "
      ]
     },
     "execution_count": 713,
     "metadata": {},
     "output_type": "execute_result"
    }
   ],
   "source": [
    "#joindre les deux df (inner joint) en prenant que les colonnes nécessaire\n",
    "newData = newData.merge(NewInf[[\"Value\",\"Year\"]], on=\"Year\", how='inner')\n",
    "newData.head()"
   ]
  },
  {
   "cell_type": "markdown",
   "id": "f79eaa9d",
   "metadata": {},
   "source": [
    "<div class=\"alert alert-danger\">\n",
    "  <h1><strong> Fin </strong></h1>\n",
    "</div>"
   ]
  }
 ],
 "metadata": {
  "kernelspec": {
   "display_name": "Python 3",
   "language": "python",
   "name": "python3"
  }
 },
 "nbformat": 4,
 "nbformat_minor": 5
}
